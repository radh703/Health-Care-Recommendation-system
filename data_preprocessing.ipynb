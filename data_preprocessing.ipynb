{
 "cells": [
  {
   "cell_type": "code",
   "execution_count": 1,
   "id": "e83ac50e",
   "metadata": {},
   "outputs": [],
   "source": [
    "import pandas as pd\n",
    "import requests\n",
    "from PIL import Image\n",
    "from io import BytesIO\n",
    "import os"
   ]
  },
  {
   "cell_type": "code",
   "execution_count": 2,
   "id": "6e1e0985",
   "metadata": {},
   "outputs": [
    {
     "name": "stdout",
     "output_type": "stream",
     "text": [
      "   id  calories  proteins   fat  carbohydrate                name  \\\n",
      "0   1     280.0       9.2  28.4           0.0                Abon   \n",
      "1   2     513.0      23.7  37.0          21.3        Abon haruwan   \n",
      "2   3       0.0       0.0   0.2           0.0           Agar-agar   \n",
      "3   4      45.0       1.1   0.4          10.8  Akar tonjong segar   \n",
      "4   5      37.0       4.4   0.5           3.8       Aletoge segar   \n",
      "\n",
      "                                               image  \n",
      "0  https://img-cdn.medkomtek.com/PbrY9X3ignQ8sVuj...  \n",
      "1  https://img-global.cpcdn.com/recipes/cbf330fbd...  \n",
      "2  https://res.cloudinary.com/dk0z4ums3/image/upl...  \n",
      "3  https://images.tokopedia.net/img/cache/200-squ...  \n",
      "4  https://nilaigizi.com/assets/images/produk/pro...  \n"
     ]
    }
   ],
   "source": [
    "# Load the dataset\n",
    "file_path = 'C:/Users/DELL/Desktop/Internship/nutrition.csv'\n",
    "df = pd.read_csv(file_path)\n",
    "print(df.head())"
   ]
  },
  {
   "cell_type": "code",
   "execution_count": 7,
   "id": "03068e51",
   "metadata": {},
   "outputs": [],
   "source": [
    "# Create a directory to save the images\n",
    "image_dir = 'images'\n",
    "os.makedirs(image_dir, exist_ok=True)"
   ]
  },
  {
   "cell_type": "code",
   "execution_count": 8,
   "id": "47088f81",
   "metadata": {
    "scrolled": true
   },
   "outputs": [
    {
     "name": "stdout",
     "output_type": "stream",
     "text": [
      "Could not download image from https://katakabar.com/assets/images/upload/news/medium_news_1594438184.jpeg: 404 Client Error: Not Found for url: https://www.katakabar.com/assets/images/upload/news/medium_news_1594438184.jpeg\n",
      "Could not download image from https://png.pngtree.com/png-clipart/20220124/ourmid/pngtree-a-plate-of-delicious-fat-cow-free-elements-png-image_4252411.png: 403 Client Error: Forbidden for url: https://png.pngtree.com/png-clipart/20220124/ourmid/pngtree-a-plate-of-delicious-fat-cow-free-elements-png-image_4252411.png\n",
      "Could not download image from https://www.satuharapan.com/uploads/cache/news_77440_1518185146.jpg: HTTPSConnectionPool(host='www.satuharapan.com', port=443): Max retries exceeded with url: /uploads/cache/news_77440_1518185146.jpg (Caused by NewConnectionError('<urllib3.connection.HTTPSConnection object at 0x000001656594B1F0>: Failed to establish a new connection: [WinError 10060] A connection attempt failed because the connected party did not properly respond after a period of time, or established connection failed because connected host has failed to respond'))\n",
      "Could not download image from https://scontent.fcgk35-1.fna.fbcdn.net/v/t1.6435-9/121695429_676597869941401_1458702638921645964_n.jpg?_nc_cat=100&ccb=1-7&_nc_sid=a26aad&_nc_ohc=__IwAVKho7AAX9vwknv&_nc_ht=scontent.fcgk35-1.fna&oh=00_AfBzshz2zrHYSwZvSOBel1XuorFB4ySKktNdgOj7dB8Jng&oe=649DFFD5: 403 Client Error: Forbidden for url: https://scontent.fcgk35-1.fna.fbcdn.net/v/t1.6435-9/121695429_676597869941401_1458702638921645964_n.jpg?_nc_cat=100&ccb=1-7&_nc_sid=a26aad&_nc_ohc=__IwAVKho7AAX9vwknv&_nc_ht=scontent.fcgk35-1.fna&oh=00_AfBzshz2zrHYSwZvSOBel1XuorFB4ySKktNdgOj7dB8Jng&oe=649DFFD5\n",
      "Could not download image from https://e7.pngegg.com/pngimages/66/902/png-clipart-church-s-chicken-bakery-chicken-nugget-fried-chicken-texas-chicken-church-s-chicken-bakery-thumbnail.png: 403 Client Error: Forbidden for url: https://e7.pngegg.com/pngimages/66/902/png-clipart-church-s-chicken-bakery-chicken-nugget-fried-chicken-texas-chicken-church-s-chicken-bakery-thumbnail.png\n",
      "Could not download image from https://s1.bukalapak.com/img/6117974221/large/GINJAL_BABI___PORK_KIDNEY_.jpg: 404 Client Error: Not Found for url: https://s1.bukalapak.com/img/6117974221/large/GINJAL_BABI___PORK_KIDNEY_.jpg\n",
      "Could not download image from https://images.tokopedia.net/img/cache/700/hDjmkQ/2021/10/4/73219f10-0149-4af7-b1ca-c51d90ca767b.jpg: cannot write mode P as JPEG\n",
      "Could not download image from https://upload.wikimedia.org/wikipedia/commons/5/5e/Barongko_hendak_dimakan.jpg: 403 Client Error: Forbidden. Please comply with the User-Agent policy: https://meta.wikimedia.org/wiki/User-Agent_policy for url: https://upload.wikimedia.org/wikipedia/commons/5/5e/Barongko_hendak_dimakan.jpg\n",
      "Could not download image from https://foreignfork.com/wp-content/uploads/2020/11/Batar-daan-7-scaled.jpg: 403 Client Error: Forbidden for url: https://foreignfork.com/wp-content/uploads/2020/11/Batar-daan-7-scaled.jpg\n",
      "Could not download image from https://th.bing.com/th?id=ABTE8B1595CD1C0C5A990C01CE78BE64402674F61A3C217A9FF9CCB31D6F7E9E29A&w=1144&h=568&c=1: 404 Client Error: Not Found for url: https://th.bing.com/th?id=ABTE8B1595CD1C0C5A990C01CE78BE64402674F61A3C217A9FF9CCB31D6F7E9E29A&w=1144&h=568&c=1\n",
      "Could not download image from https://mitalom.com/wp-content/uploads/2015/10/Gambar-Daun-Bayam.jpg: HTTPSConnectionPool(host='mitalom.com', port=443): Max retries exceeded with url: /wp-content/uploads/2015/10/Gambar-Daun-Bayam.jpg (Caused by NewConnectionError('<urllib3.connection.HTTPSConnection object at 0x0000016565DBC220>: Failed to establish a new connection: [Errno 11002] getaddrinfo failed'))\n",
      "Could not download image from https://blue.kumparan.com/image/upload/fl_progressive,fl_lossy,c_fill,q_auto:best,w_640/v1601173915/chhxzj6dnkwkryigiyrl.jpg: 403 Client Error: Forbidden for url: https://blue.kumparan.com/image/upload/fl_progressive,fl_lossy,c_fill,q_auto:best,w_640/v1601173915/chhxzj6dnkwkryigiyrl.jpg\n",
      "Could not download image from https://cdn.id9.site/burgerax/media/2020/09/beef-burger-e1644156606108.jpeg: HTTPSConnectionPool(host='cdn.id9.site', port=443): Max retries exceeded with url: /burgerax/media/2020/09/beef-burger-e1644156606108.jpeg (Caused by NewConnectionError('<urllib3.connection.HTTPSConnection object at 0x0000016565DBB400>: Failed to establish a new connection: [Errno 11001] getaddrinfo failed'))\n",
      "Could not download image from https://www.masakapahariini.com/wp-content/uploads/2020/12/resep-beef-teriyaki-2-500x300.jpg: 403 Client Error: Forbidden for url: https://www.masakapahariini.com/wp-content/uploads/2020/12/resep-beef-teriyaki-2-500x300.jpg\n",
      "Could not download image from https://www.surabayapagi.com/po-content/photo/big/a782bead716a8dbee3762c8c79ec4e54.jpg: 403 Client Error: Forbidden for url: https://www.surabayapagi.com/po-content/photo/big/a782bead716a8dbee3762c8c79ec4e54.jpg\n",
      "Could not download image from https://assets.tokko.io/2bbdc42e-f0c6-494e-ae09-9d177af2ec61/products/images/cc352d35-2818-45ed-9a63-03f4fbd2247b: HTTPSConnectionPool(host='assets.tokko.io', port=443): Max retries exceeded with url: /2bbdc42e-f0c6-494e-ae09-9d177af2ec61/products/images/cc352d35-2818-45ed-9a63-03f4fbd2247b (Caused by SSLError(SSLEOFError(8, 'EOF occurred in violation of protocol (_ssl.c:1129)')))\n",
      "Could not download image from https://mfcepusluh.bpsdmkp.kkp.go.id/asset/foto_berita/SIDAT_OK_-1.jpg: HTTPSConnectionPool(host='mfcepusluh.bpsdmkp.kkp.go.id', port=443): Max retries exceeded with url: /asset/foto_berita/SIDAT_OK_-1.jpg (Caused by SSLError(SSLCertVerificationError(1, '[SSL: CERTIFICATE_VERIFY_FAILED] certificate verify failed: certificate has expired (_ssl.c:1129)')))\n",
      "Could not download image from https://jovee.id/wp-content/uploads/2020/11/shutterstock_1830526784.jpg: HTTPSConnectionPool(host='jovee.id', port=443): Max retries exceeded with url: /wp-content/uploads/2020/11/shutterstock_1830526784.jpg (Caused by NewConnectionError('<urllib3.connection.HTTPSConnection object at 0x0000016565DBBA90>: Failed to establish a new connection: [WinError 10060] A connection attempt failed because the connected party did not properly respond after a period of time, or established connection failed because connected host has failed to respond'))\n",
      "Could not download image from https://www.agrofarm.co.id/wp-content/uploads/2022/04/Ganyong-e1651331774497.jpg: 444 Client Error:  for url: https://www.agrofarm.co.id/wp-content/uploads/2022/04/Ganyong-e1651331774497.jpg\n",
      "Could not download image from https://rottebakery.com/wp-content/uploads/2022/06/white-rice-flour-small-bowl-with-rice-plant.jpg: ('Connection aborted.', ConnectionResetError(10054, 'An existing connection was forcibly closed by the remote host', None, 10054, None))\n",
      "Could not download image from https://thumbs.vdvc.id/olret/images/original/2022/07/21/62d900a97984b-manfaat-tepung-jagung_olret.jpg: HTTPSConnectionPool(host='thumbs.vdvc.id', port=443): Max retries exceeded with url: /olret/images/original/2022/07/21/62d900a97984b-manfaat-tepung-jagung_olret.jpg (Caused by NewConnectionError('<urllib3.connection.HTTPSConnection object at 0x0000016565E0E040>: Failed to establish a new connection: [Errno 11001] getaddrinfo failed'))\n",
      "Could not download image from https://www.melatiputrajaya.com/wp-content/uploads/2021/02/Tepung-Beras-Ketan-sumber-Bola-Keluarga.jpg: ('Connection aborted.', ConnectionResetError(10054, 'An existing connection was forcibly closed by the remote host', None, 10054, None))\n",
      "Could not download image from https://s1.bukalapak.com/img/11085064122/large/Beras_Menir_Kiloan.jpg: 404 Client Error: Not Found for url: https://s1.bukalapak.com/img/11085064122/large/Beras_Menir_Kiloan.jpg\n",
      "Could not download image from https://i0.wp.com/gitacinta.com/wp-content/uploads/2022/06/tepung-beras-merah.jpg?resize=650%2C276&ssl=1: 400 Client Error: Bad Request for url: https://i0.wp.com/gitacinta.com/wp-content/uploads/2022/06/tepung-beras-merah.jpg?resize=650%2C276&ssl=1\n",
      "Could not download image from https://ik.imagekit.io/dcjlghyytp1/2020/03/curry-1609780_1920.jpg?tr=f-auto: 404 Client Error: Not Found for url: https://ik.imagekit.io/dcjlghyytp1/2020/03/curry-1609780_1920.jpg?tr=f-auto\n"
     ]
    },
    {
     "name": "stdout",
     "output_type": "stream",
     "text": [
      "Could not download image from https://jovee.id/wp-content/uploads/2020/09/KACANGMEDE.jpg: HTTPSConnectionPool(host='jovee.id', port=443): Max retries exceeded with url: /wp-content/uploads/2020/09/KACANGMEDE.jpg (Caused by NewConnectionError('<urllib3.connection.HTTPSConnection object at 0x0000016565E0E3D0>: Failed to establish a new connection: [WinError 10060] A connection attempt failed because the connected party did not properly respond after a period of time, or established connection failed because connected host has failed to respond'))\n",
      "Could not download image from https://upload.wikimedia.org/wikipedia/commons/4/43/Kue_bika_ambon.JPG: 403 Client Error: Forbidden. Please comply with the User-Agent policy: https://meta.wikimedia.org/wiki/User-Agent_policy for url: https://upload.wikimedia.org/wikipedia/commons/4/43/Kue_bika_ambon.JPG\n",
      "Could not download image from https://upload.wikimedia.org/wikipedia/commons/c/c4/Brem_Madiun.JPG: 403 Client Error: Forbidden. Please comply with the User-Agent policy: https://meta.wikimedia.org/wiki/User-Agent_policy for url: https://upload.wikimedia.org/wikipedia/commons/c/c4/Brem_Madiun.JPG\n",
      "Could not download image from https://docplayer.info/docs-images/102/153072846/images/35-4.jpg: cannot identify image file <_io.BytesIO object at 0x0000016565E03180>\n",
      "Could not download image from https://images.tokopedia.net/img/cache/500-square/VqbcmM/2021/2/25/8a8932b4-ab82-4346-835e-07171fc1afec.jpg: cannot write mode P as JPEG\n",
      "Could not download image from https://www.pantau.com/wp-content/uploads/2022/04/191111044328-buah-nona-buah-langka-yang-memiliki-segundang-manfaat-bagi-kesehatan.jpg: 404 Client Error: Not Found for url: https://www.pantau.com/wp-content/uploads/2022/04/191111044328-buah-nona-buah-langka-yang-memiliki-segundang-manfaat-bagi-kesehatan.jpg\n",
      "Could not download image from https://images.tokopedia.net/img/cache/700/hDjmkQ/2022/4/12/ad4d114e-599c-444e-9c1f-afa012cc8316.jpg: cannot write mode P as JPEG\n",
      "Could not download image from https://manfaat.co.id/wp-content/uploads/2017/08/Screenshot_2.png: cannot write mode RGBA as JPEG\n",
      "Could not download image from https://drive.google.com/file/d/1LZOGoU3M3XcPbU5_HaAZ26ybCTbiTXpT/view?usp=sharing: cannot identify image file <_io.BytesIO object at 0x0000016565E03C20>\n",
      "Could not download image from https://upload.wikimedia.org/wikipedia/commons/thumb/7/79/Bulung.jpg/1200px-Bulung.jpg: 403 Client Error: Forbidden. Please comply with the User-Agent policy: https://meta.wikimedia.org/wiki/User-Agent_policy for url: https://upload.wikimedia.org/wikipedia/commons/thumb/7/79/Bulung.jpg/1200px-Bulung.jpg\n",
      "Could not download image from https://medicillin.com/admin/upload/images/information/584770af1e043.png: 404 Client Error: Not Found for url: https://medicillin.com/admin/upload/images/information/584770af1e043.png\n",
      "Could not download image from https://www.masakapahariini.com/wp-content/uploads/2022/06/resep-buras.jpg: 403 Client Error: Forbidden for url: https://www.masakapahariini.com/wp-content/uploads/2022/06/resep-buras.jpg\n",
      "Could not download image from https://premiumnest-5c4c.kxcdn.com/wp-content/uploads/2016/07/SS_white_900x600-4.jpg: 451 Client Error:  for url: https://premiumnest-5c4c.kxcdn.com/wp-content/uploads/2016/07/SS_white_900x600-4.jpg\n",
      "Could not download image from https://drive.google.com/file/d/1LZOGoU3M3XcPbU5_HaAZ26ybCTbiTXpT/view?usp=sharing: cannot identify image file <_io.BytesIO object at 0x0000016565E0A630>\n",
      "Could not download image from https://assets.suaramerdeka.com/crop/7x38:699x495/750x500/webp/photo/2021/11/01/2899515089.jpg: HTTPSConnectionPool(host='assets.suaramerdeka.com', port=443): Max retries exceeded with url: /crop/7x38:699x495/750x500/webp/photo/2021/11/01/2899515089.jpg (Caused by NewConnectionError('<urllib3.connection.HTTPSConnection object at 0x0000016565E33D60>: Failed to establish a new connection: [Errno 11001] getaddrinfo failed'))\n",
      "Could not download image from https://www.jessicagavin.com/wp-content/uploads/2023/03/corned-beef-hash-15-1200.jpg: 403 Client Error: Forbidden for url: https://www.jessicagavin.com/wp-content/uploads/2023/03/corned-beef-hash-15-1200.jpg\n",
      "Could not download image from https://eljohnnews.com/wp-content/uploads/2018/08/Wisata-Kuliner-Coto-Makassar.png: 404 Client Error: Not Found for url: https://eljohnnews.com/wp-content/uploads/2018/08/Wisata-Kuliner-Coto-Makassar.png\n",
      "Could not download image from https://png.pngtree.com/thumb_back/fw800/background/20220318/pngtree-photo-of-fresh-pork-and-lean-meat-image_1019860.jpg: 403 Client Error: Forbidden for url: https://png.pngtree.com/thumb_back/fw800/background/20220318/pngtree-photo-of-fresh-pork-and-lean-meat-image_1019860.jpg\n",
      "Could not download image from https://www.satuharapan.com/uploads/pics/news_77177_1515750542.jpg: HTTPSConnectionPool(host='www.satuharapan.com', port=443): Max retries exceeded with url: /uploads/pics/news_77177_1515750542.jpg (Caused by NewConnectionError('<urllib3.connection.HTTPSConnection object at 0x0000016565E350A0>: Failed to establish a new connection: [WinError 10060] A connection attempt failed because the connected party did not properly respond after a period of time, or established connection failed because connected host has failed to respond'))\n",
      "Could not download image from https://www.satuharapan.com/uploads/pics/news_77177_1515750542.jpgg: HTTPSConnectionPool(host='www.satuharapan.com', port=443): Max retries exceeded with url: /uploads/pics/news_77177_1515750542.jpgg (Caused by NewConnectionError('<urllib3.connection.HTTPSConnection object at 0x0000016565E3A760>: Failed to establish a new connection: [WinError 10060] A connection attempt failed because the connected party did not properly respond after a period of time, or established connection failed because connected host has failed to respond'))\n",
      "Could not download image from https://thumb.antvklik.com/images/thumbs/2022/11/28/638495d5b1931-daun-singkong_antvklik_1265_711.jpg: 403 Client Error: Forbidden for url: https://thumb.antvklik.com/images/thumbs/2022/11/28/638495d5b1931-daun-singkong_antvklik_1265_711.jpg\n",
      "Could not download image from https://sikia.unair.ac.id/wp-content/uploads/2022/04/daunkatuk.png: cannot identify image file <_io.BytesIO object at 0x0000016565E3B4A0>\n",
      "Could not download image from https://assets.ayobandung.com/crop/0x0:0x0/750x500/webp/photo/2022/12/18/1000776031.jpg: HTTPSConnectionPool(host='assets.ayobandung.com', port=443): Max retries exceeded with url: /crop/0x0:0x0/750x500/webp/photo/2022/12/18/1000776031.jpg (Caused by NewConnectionError('<urllib3.connection.HTTPSConnection object at 0x0000016565E3AF70>: Failed to establish a new connection: [Errno 11001] getaddrinfo failed'))\n",
      "Could not download image from https://id-test-11.slatic.net/p/764fec8a7c2b4aab6a2355fc945e85c7.png: cannot write mode RGBA as JPEG\n",
      "Could not download image from https://blog.kuranesia.com/wp-content/uploads/2020/12/siomak-makanan-kura-kura-1024x768.jpg: cannot identify image file <_io.BytesIO object at 0x0000016565E3B590>\n",
      "Could not download image from https://www.parenting.co.id/img/images/B1.jpg: HTTPSConnectionPool(host='www.parenting.co.id', port=443): Max retries exceeded with url: /img/images/B1.jpg (Caused by SSLError(SSLCertVerificationError(1, '[SSL: CERTIFICATE_VERIFY_FAILED] certificate verify failed: certificate has expired (_ssl.c:1129)')))\n",
      "Could not download image from https://cms.sehatq.com/public/img/article_img/9-manfaat-daun-lobak-yang-tidak-diduga-duga-1606467271.jpg: 522 Server Error:  for url: https://cms.sehatq.com/public/img/article_img/9-manfaat-daun-lobak-yang-tidak-diduga-duga-1606467271.jpg\n",
      "Could not download image from https://ngkiong.com/wp-content/uploads/2020/12/senggani-1-e1609032934136.jpg: HTTPSConnectionPool(host='ngkiong.com', port=443): Max retries exceeded with url: /wp-content/uploads/2020/12/senggani-1-e1609032934136.jpg (Caused by NewConnectionError('<urllib3.connection.HTTPSConnection object at 0x0000016565E35F10>: Failed to establish a new connection: [Errno 11001] getaddrinfo failed'))\n",
      "Could not download image from https://arafuru.com/wp-content/uploads/2014/08/menanam-gambas-agar-tumbuh-subur.jpg: cannot identify image file <_io.BytesIO object at 0x0000016565E3C680>\n"
     ]
    },
    {
     "name": "stdout",
     "output_type": "stream",
     "text": [
      "Could not download image from https://images.tokopedia.net/img/cache/700/VqbcmM/2021/8/4/fc5f220f-8450-4e87-b3a6-6f9d1704ba02.jpgg: cannot write mode P as JPEG\n",
      "Could not download image from https://ds393qgzrxwzn.cloudfront.net/resize/m500x500/cat1/img/images/0/xmCLZX6vfY.jpg: cannot write mode RGBA as JPEG\n",
      "Could not download image from https://archive.netralnews.com/foto/2020/04/13/76-daun_talas_sangat_lezat_dibuat_masakan_buntil.jpg: HTTPSConnectionPool(host='archive.netralnews.com', port=443): Max retries exceeded with url: /foto/2020/04/13/76-daun_talas_sangat_lezat_dibuat_masakan_buntil.jpg (Caused by NewConnectionError('<urllib3.connection.HTTPSConnection object at 0x0000016565E460D0>: Failed to establish a new connection: [WinError 10060] A connection attempt failed because the connected party did not properly respond after a period of time, or established connection failed because connected host has failed to respond'))\n",
      "Could not download image from https://images.tokopedia.net/img/cache/700/product-1/2019/4/21/5808648/5808648_8744c29e-b9e5-475b-9c59-48324dc3e20e_348_348.jpg: cannot write mode P as JPEG\n",
      "Could not download image from https://assets.promediateknologi.id/crop/0x0:0x0/750x500/webp/photo/jawapos/2022/11/daun-ubi-jalar.jpg: 403 Client Error: Forbidden for url: https://assets.promediateknologi.id/crop/0x0:0x0/750x500/webp/photo/jawapos/2022/11/daun-ubi-jalar.jpg\n",
      "Could not download image from https://cdnimage2.caping.co.id/news/20220228/2a/1619199045A782A517.jpg_480A0A1A80.webp: 410 Client Error: Gone for url: https://cdnimage2.caping.co.id/news/20220228/2a/1619199045A782A517.jpg_480A0A1A80.webp\n",
      "Could not download image from https://selerasa.com/wp-content/uploads/2015/11/images_dendeng-belut.JPG: 526 Server Error:  for url: https://selerasa.com/wp-content/uploads/2015/11/images_dendeng-belut.JPG\n",
      "Could not download image from https://drive.google.com/file/d/1LZOGoU3M3XcPbU5_HaAZ26ybCTbiTXpT/view?usp=sharing: cannot identify image file <_io.BytesIO object at 0x0000016565E42040>\n",
      "Could not download image from https://png.pngtree.com/png-vector/20210913/ourlarge/pngtree-fresh-lamb-ingredients-png-image_3922032.jpg: 403 Client Error: Forbidden for url: https://png.pngtree.com/png-vector/20210913/ourlarge/pngtree-fresh-lamb-ingredients-png-image_3922032.jpg\n",
      "Could not download image from https://upload.wikimedia.org/wikipedia/commons/thumb/5/50/Duku_Lansium_domesticum_Ripe.jpg/1200px-Duku_Lansium_domesticum_Ripe.jpg: 403 Client Error: Forbidden. Please comply with the User-Agent policy: https://meta.wikimedia.org/wiki/User-Agent_policy for url: https://upload.wikimedia.org/wikipedia/commons/thumb/5/50/Duku_Lansium_domesticum_Ripe.jpg/1200px-Duku_Lansium_domesticum_Ripe.jpg\n",
      "Could not download image from https://s2.bukalapak.com/img/762986024/large/Cemilan__Emping_Komak_Lombok_.jpg: 404 Client Error: Not Found for url: https://s2.bukalapak.com/img/762986024/large/Cemilan__Emping_Komak_Lombok_.jpg\n",
      "Could not download image from https://agretail.id/uploads/news/news_20200728174010_846.jpeg: 404 Client Error: Not Found for url: https://agretail.id/uploads/news/news_20200728174010_846.jpeg\n",
      "Could not download image from https://www.masakapahariini.com/wp-content/uploads/2020/06/es-mambo.jpg: 403 Client Error: Forbidden for url: https://www.masakapahariini.com/wp-content/uploads/2020/06/es-mambo.jpg\n",
      "Could not download image from https://upload.wikimedia.org/wikipedia/commons/f/fb/19._Gathot_2.jpg: 403 Client Error: Forbidden. Please comply with the User-Agent policy: https://meta.wikimedia.org/wiki/User-Agent_policy for url: https://upload.wikimedia.org/wikipedia/commons/f/fb/19._Gathot_2.jpg\n",
      "Could not download image from https://s1.bukalapak.com/img/6117974221/large/GINJAL_BABI___PORK_KIDNEY_.jpg: 404 Client Error: Not Found for url: https://s1.bukalapak.com/img/6117974221/large/GINJAL_BABI___PORK_KIDNEY_.jpg\n",
      "Could not download image from https://kbu-cdn.com/dk/wp-content/uploads/gulai-kambing.jpg: 403 Client Error: Forbidden for url: https://kbu-cdn.com/dk/wp-content/uploads/gulai-kambing.jpg\n",
      "Could not download image from https://mediakom.kemkes.go.id/wp-content/uploads/2021/08/kuah-pliek-u.png: HTTPSConnectionPool(host='mediakom.kemkes.go.id', port=443): Max retries exceeded with url: /wp-content/uploads/2021/08/kuah-pliek-u.png (Caused by SSLError(SSLCertVerificationError(1, '[SSL: CERTIFICATE_VERIFY_FAILED] certificate verify failed: unable to get local issuer certificate (_ssl.c:1129)')))\n",
      "Could not download image from https://bakeitwithlove.com/wp-content/uploads/2021/12/glazed-honey-ham-sq.jpg: 403 Client Error: Forbidden for url: https://bakeitwithlove.com/wp-content/uploads/2021/12/glazed-honey-ham-sq.jpg\n",
      "Could not download image from https://www.mongabay.co.id/wp-content/uploads/2015/05/sikapa02.jpg: 403 Client Error: Forbidden for url: https://www.mongabay.co.id/wp-content/uploads/2015/05/sikapa02.jpg\n",
      "Could not download image from https://cdn2.tstatic.net/tribunnewswiki/foto/bank/images/ikan-asinn.jpg: HTTPSConnectionPool(host='cdn2.tstatic.net', port=443): Max retries exceeded with url: /tribunnewswiki/foto/bank/images/ikan-asinn.jpg (Caused by NewConnectionError('<urllib3.connection.HTTPSConnection object at 0x0000016565E6D370>: Failed to establish a new connection: [Errno 11001] getaddrinfo failed'))\n",
      "Could not download image from https://upload.wikimedia.org/wikipedia/commons/9/98/Maroon_Clown_Fish444.jpg: 403 Client Error: Forbidden. Please comply with the User-Agent policy: https://meta.wikimedia.org/wiki/User-Agent_policy for url: https://upload.wikimedia.org/wikipedia/commons/9/98/Maroon_Clown_Fish444.jpg\n",
      "Could not download image from https://altarafish.com/wp-content/uploads/2019/02/kembung-banjar-2.jpg: 404 Client Error: Not Found for url: https://altarafish.com/wp-content/uploads/2019/02/kembung-banjar-2.jpg\n",
      "Could not download image from https://assets.ayobandung.com/crop/0x0:0x0/750x500/webp/photo/tangerangraya/2021/10/Baronang1.jpg: HTTPSConnectionPool(host='assets.ayobandung.com', port=443): Max retries exceeded with url: /crop/0x0:0x0/750x500/webp/photo/tangerangraya/2021/10/Baronang1.jpg (Caused by NewConnectionError('<urllib3.connection.HTTPSConnection object at 0x0000016565E766D0>: Failed to establish a new connection: [Errno 11001] getaddrinfo failed'))\n",
      "Could not download image from https://www.surabayapagi.com/po-content/photo/big/a782bead716a8dbee3762c8c79ec4e54.jpg: 403 Client Error: Forbidden for url: https://www.surabayapagi.com/po-content/photo/big/a782bead716a8dbee3762c8c79ec4e54.jpg\n",
      "Could not download image from https://kbu-cdn.com/dk/wp-content/uploads/belut-goreng-crispy.jpg: 403 Client Error: Forbidden for url: https://kbu-cdn.com/dk/wp-content/uploads/belut-goreng-crispy.jpg\n",
      "Could not download image from https://upload.wikimedia.org/wikipedia/commons/1/1a/Megalops_cyprinoides2.jpg: 403 Client Error: Forbidden. Please comply with the User-Agent policy: https://meta.wikimedia.org/wiki/User-Agent_policy for url: https://upload.wikimedia.org/wikipedia/commons/1/1a/Megalops_cyprinoides2.jpg\n",
      "Could not download image from https://jurnal6.com/wp-content/uploads/2021/11/received_532156504848726.jpeg: 403 Client Error: Forbidden for url: https://jurnal6.com/wp-content/uploads/2021/11/received_532156504848726.jpeg\n",
      "Could not download image from https://assets.ayobandung.com/crop/0x0:0x0/750x500/webp/photo/2021/11/22/2261616866.jpg: HTTPSConnectionPool(host='assets.ayobandung.com', port=443): Max retries exceeded with url: /crop/0x0:0x0/750x500/webp/photo/2021/11/22/2261616866.jpg (Caused by NewConnectionError('<urllib3.connection.HTTPSConnection object at 0x0000016565E7B430>: Failed to establish a new connection: [Errno 11001] getaddrinfo failed'))\n",
      "Could not download image from https://jagalaut.id/wp-content/uploads/2022/05/IMG_3929.jpg: cannot identify image file <_io.BytesIO object at 0x0000016565E79130>\n",
      "Could not download image from https://assets.ayobandung.com/crop/0x0:0x0/x/photo/2022/03/18/236634727.png: HTTPSConnectionPool(host='assets.ayobandung.com', port=443): Max retries exceeded with url: /crop/0x0:0x0/x/photo/2022/03/18/236634727.png (Caused by NewConnectionError('<urllib3.connection.HTTPSConnection object at 0x0000016565E806D0>: Failed to establish a new connection: [Errno 11001] getaddrinfo failed'))\n"
     ]
    },
    {
     "name": "stdout",
     "output_type": "stream",
     "text": [
      "Could not download image from https://lintasbalikpapan.com/asset/foto_berita/Ikan_Layang_2.jpg: 404 Client Error: Not Found for url: https://lintasbalikpapan.com/asset/foto_berita/Ikan_Layang_2.jpg\n",
      "Could not download image from https://kbu-cdn.com/dk/wp-content/uploads/lele-goreng-bumbu-lengkuas.jpg: 403 Client Error: Forbidden for url: https://kbu-cdn.com/dk/wp-content/uploads/lele-goreng-bumbu-lengkuas.jpg\n",
      "Could not download image from https://upload.wikimedia.org/wikipedia/commons/thumb/b/bb/Decapterus_koheru_%28koheru%29.jpg/1200px-Decapterus_koheru_%28koheru%29.jpg: 403 Client Error: Forbidden. Please comply with the User-Agent policy: https://meta.wikimedia.org/wiki/User-Agent_policy for url: https://upload.wikimedia.org/wikipedia/commons/thumb/b/bb/Decapterus_koheru_%28koheru%29.jpg/1200px-Decapterus_koheru_%28koheru%29.jpg\n",
      "Could not download image from https://s4.bukalapak.com/img/9282888648/large/1792856_scaled.jpg: 404 Client Error: Not Found for url: https://s4.bukalapak.com/img/9282888648/large/1792856_scaled.jpg\n",
      "Could not download image from https://www.researchgate.net/publication/334733354/figure/fig1/AS:785755827888128@1564350196700/Gambar-5-Papuyu-Anabas-testudineus.ppm: 403 Client Error: Forbidden for url: https://www.researchgate.net/publication/334733354/figure/fig1/AS:785755827888128@1564350196700/Gambar-5-Papuyu-Anabas-testudineus.ppm\n",
      "Could not download image from https://upload.wikimedia.org/wikipedia/commons/1/18/Eubleekeria_splendens.jpg: 403 Client Error: Forbidden. Please comply with the User-Agent policy: https://meta.wikimedia.org/wiki/User-Agent_policy for url: https://upload.wikimedia.org/wikipedia/commons/1/18/Eubleekeria_splendens.jpg\n",
      "Could not download image from https://s3.dimanaja.com/resep/cover/pindang-ikan-selar-e069d05.webp: HTTPSConnectionPool(host='s3.dimanaja.com', port=443): Max retries exceeded with url: /resep/cover/pindang-ikan-selar-e069d05.webp (Caused by NewConnectionError('<urllib3.connection.HTTPSConnection object at 0x0000016565E8C430>: Failed to establish a new connection: [WinError 10060] A connection attempt failed because the connected party did not properly respond after a period of time, or established connection failed because connected host has failed to respond'))\n",
      "Could not download image from https://upload.wikimedia.org/wikipedia/id/0/0d/Rasbora-borapatensis.jpg: 403 Client Error: Forbidden. Please comply with the User-Agent policy: https://meta.wikimedia.org/wiki/User-Agent_policy for url: https://upload.wikimedia.org/wikipedia/id/0/0d/Rasbora-borapatensis.jpg\n",
      "Could not download image from https://upload.wikimedia.org/wikipedia/commons/3/3e/Selaro_leptole_100812-6006_tdp.jpg: 403 Client Error: Forbidden. Please comply with the User-Agent policy: https://meta.wikimedia.org/wiki/User-Agent_policy for url: https://upload.wikimedia.org/wikipedia/commons/3/3e/Selaro_leptole_100812-6006_tdp.jpg\n",
      "Could not download image from https://upload.wikimedia.org/wikipedia/commons/thumb/3/3e/Selaro_leptole_100812-6006_tdp.jpg/1200px-Selaro_leptole_100812-6006_tdp.jpg: 403 Client Error: Forbidden. Please comply with the User-Agent policy: https://meta.wikimedia.org/wiki/User-Agent_policy for url: https://upload.wikimedia.org/wikipedia/commons/thumb/3/3e/Selaro_leptole_100812-6006_tdp.jpg/1200px-Selaro_leptole_100812-6006_tdp.jpg\n",
      "Could not download image from https://mfcepusluh.bpsdmkp.kkp.go.id/asset/foto_berita/SIDAT_OK_-1.jpg: HTTPSConnectionPool(host='mfcepusluh.bpsdmkp.kkp.go.id', port=443): Max retries exceeded with url: /asset/foto_berita/SIDAT_OK_-1.jpg (Caused by SSLError(SSLCertVerificationError(1, '[SSL: CERTIFICATE_VERIFY_FAILED] certificate verify failed: certificate has expired (_ssl.c:1129)')))\n",
      "Could not download image from https://upload.wikimedia.org/wikipedia/commons/3/32/Plectropomus_leopardus.jpg: 403 Client Error: Forbidden. Please comply with the User-Agent policy: https://meta.wikimedia.org/wiki/User-Agent_policy for url: https://upload.wikimedia.org/wikipedia/commons/3/32/Plectropomus_leopardus.jpg\n",
      "Could not download image from https://upload.wikimedia.org/wikipedia/commons/thumb/7/7d/Wallagonia_leerii.jpg/1200px-Wallagonia_leerii.jpg: 403 Client Error: Forbidden. Please comply with the User-Agent policy: https://meta.wikimedia.org/wiki/User-Agent_policy for url: https://upload.wikimedia.org/wikipedia/commons/thumb/7/7d/Wallagonia_leerii.jpg/1200px-Wallagonia_leerii.jpg\n",
      "Could not download image from https://healthycornersby.com/wp-content/uploads/2020/02/WhatsApp-Image-2020-02-24-at-9.55.30-AM.jpeg: ('Connection aborted.', ConnectionResetError(10054, 'An existing connection was forcibly closed by the remote host', None, 10054, None))\n",
      "Could not download image from https://kbu-cdn.com/dk/wp-content/uploads/teri-kriuk.jpg: 403 Client Error: Forbidden for url: https://kbu-cdn.com/dk/wp-content/uploads/teri-kriuk.jpg\n",
      "Could not download image from https://upload.wikimedia.org/wikipedia/commons/5/5d/Euthyn_affin_101018-8111_tdp.jpg: 403 Client Error: Forbidden. Please comply with the User-Agent policy: https://meta.wikimedia.org/wiki/User-Agent_policy for url: https://upload.wikimedia.org/wikipedia/commons/5/5d/Euthyn_affin_101018-8111_tdp.jpg\n",
      "Could not download image from https://www.garnesia.com/images/vendor/v4934.jpg: 403 Client Error: Forbidden for url: https://www.garnesia.com/images/vendor/v4934.jpg\n",
      "Could not download image from https://s2.bukalapak.com/img/7921308452/large/IMG_20180418_WA0037_scaled.jpg: 404 Client Error: Not Found for url: https://s2.bukalapak.com/img/7921308452/large/IMG_20180418_WA0037_scaled.jpg\n",
      "Could not download image from https://cdn.antaranews.com/cache/800x533/2011/05/20110519103631tanaman.gif: cannot write mode P as JPEG\n",
      "Could not download image from https://ibusayur.my.id/wp-content/uploads/2022/08/ibusayur.my.id-sayur-nangka-51661b26-eb56-4072-8613-65cb6b4c2ecb.png: HTTPSConnectionPool(host='ibusayur.my.id', port=443): Max retries exceeded with url: /wp-content/uploads/2022/08/ibusayur.my.id-sayur-nangka-51661b26-eb56-4072-8613-65cb6b4c2ecb.png (Caused by NewConnectionError('<urllib3.connection.HTTPSConnection object at 0x0000016565E9B130>: Failed to establish a new connection: [Errno 11001] getaddrinfo failed'))\n",
      "Could not download image from https://demfarm.id/wp-content/uploads/2022/08/rose-apples-or-chomphu-isolated-on-white-backgroun-2021-09-03-19-03-57-utc-1024x768.jpg: 404 Client Error: Not Found for url: https://www.demfarm.id/wp-content/uploads/2022/08/rose-apples-or-chomphu-isolated-on-white-backgroun-2021-09-03-19-03-57-utc-1024x768.jpg\n",
      "Could not download image from https://assets.tokko.io/ff2dd45e-0891-49db-bf59-8cb4abad9ad1/products/images/4332adf2-41b4-4e4c-8a05-404d66b7d3b7: HTTPSConnectionPool(host='assets.tokko.io', port=443): Max retries exceeded with url: /ff2dd45e-0891-49db-bf59-8cb4abad9ad1/products/images/4332adf2-41b4-4e4c-8a05-404d66b7d3b7 (Caused by SSLError(SSLEOFError(8, 'EOF occurred in violation of protocol (_ssl.c:1129)')))\n",
      "Could not download image from https://niagatani.id/public/uploads/all/dPV6XsNI9r3rTpv9M1svWGkSKVRoALQcCIJTueAk.jpg: 403 Client Error: Forbidden for url: https://niagatani.id/public/uploads/all/dPV6XsNI9r3rTpv9M1svWGkSKVRoALQcCIJTueAk.jpg\n",
      "Could not download image from https://upload.wikimedia.org/wikipedia/commons/4/44/Acmel_panic_100301-0161_sbrg.jpg: 403 Client Error: Forbidden. Please comply with the User-Agent policy: https://meta.wikimedia.org/wiki/User-Agent_policy for url: https://upload.wikimedia.org/wikipedia/commons/4/44/Acmel_panic_100301-0161_sbrg.jpg\n",
      "Could not download image from https://blue.kumparan.com/image/upload/fl_progressive,fl_lossy,c_fill,q_auto:best,f_jpg,w_480/bj0crytdzulie8ypcyxz.jpg: 403 Client Error: Forbidden for url: https://blue.kumparan.com/image/upload/fl_progressive,fl_lossy,c_fill,q_auto:best,f_jpg,w_480/bj0crytdzulie8ypcyxz.jpg\n",
      "Could not download image from https://assets.ayobandung.com/crop/0x0:0x0/750x500/webp/photo/2022/05/24/2609424364.jpg: HTTPSConnectionPool(host='assets.ayobandung.com', port=443): Max retries exceeded with url: /crop/0x0:0x0/750x500/webp/photo/2022/05/24/2609424364.jpg (Caused by NewConnectionError('<urllib3.connection.HTTPSConnection object at 0x0000016565EB3850>: Failed to establish a new connection: [Errno 11001] getaddrinfo failed'))\n"
     ]
    },
    {
     "name": "stdout",
     "output_type": "stream",
     "text": [
      "Could not download image from https://cdn2.tstatic.net/tribunnewswiki/foto/bank/images/Ilustrasi-kacang-goyang-khas-Sulawesi2.jpg: HTTPSConnectionPool(host='cdn2.tstatic.net', port=443): Max retries exceeded with url: /tribunnewswiki/foto/bank/images/Ilustrasi-kacang-goyang-khas-Sulawesi2.jpg (Caused by NewConnectionError('<urllib3.connection.HTTPSConnection object at 0x0000016565EB3880>: Failed to establish a new connection: [Errno 11001] getaddrinfo failed'))\n",
      "Could not download image from https://img2.beritasatu.com/cache/beritasatu/910x580-2/20082012110024.jpg: 403 Client Error: Forbidden for url: https://img2.beritasatu.com/cache/beritasatu/910x580-2/20082012110024.jpg\n",
      "Could not download image from https://sendme.co.id/img/1649134785.jpg: HTTPSConnectionPool(host='sendme.co.id', port=443): Max retries exceeded with url: /img/1649134785.jpg (Caused by NewConnectionError('<urllib3.connection.HTTPSConnection object at 0x0000016565EB6EE0>: Failed to establish a new connection: [Errno 11001] getaddrinfo failed'))\n",
      "Could not download image from https://img.lovepik.com/photo/20211125/medium/lovepik-soybean-picture_501067376.jpg: 403 Client Error: Forbidden for url: https://img.lovepik.com/photo/20211125/medium/lovepik-soybean-picture_501067376.jpg\n",
      "Could not download image from https://upload.wikimedia.org/wikipedia/commons/thumb/5/58/Cajanus_caja_080716-1078_ayot.jpg/640px-Cajanus_caja_080716-1078_ayot.jpg: 403 Client Error: Forbidden. Please comply with the User-Agent policy: https://meta.wikimedia.org/wiki/User-Agent_policy for url: https://upload.wikimedia.org/wikipedia/commons/thumb/5/58/Cajanus_caja_080716-1078_ayot.jpg/640px-Cajanus_caja_080716-1078_ayot.jpg\n",
      "Could not download image from https://sambikelen.lombokutarakab.go.id/assets/files/artikel/sedang_14889020189829709594_313eba7317.jpg: HTTPSConnectionPool(host='sambikelen.lombokutarakab.go.id', port=443): Max retries exceeded with url: /assets/files/artikel/sedang_14889020189829709594_313eba7317.jpg (Caused by NewConnectionError('<urllib3.connection.HTTPSConnection object at 0x0000016565EBA0A0>: Failed to establish a new connection: [WinError 10061] No connection could be made because the target machine actively refused it'))\n",
      "Could not download image from https://icalan.id/userfile/filemanager/834//lz-olshop_1630921772-uTyPi.jpeg: 403 Client Error: Forbidden for url: https://icalan.id/userfile/filemanager/834//lz-olshop_1630921772-uTyPi.jpeg\n",
      "Could not download image from https://assets.ayobandung.com/crop/0x0:0x0/750x500/webp/photo/2022/11/21/4260757127.jpg: HTTPSConnectionPool(host='assets.ayobandung.com', port=443): Max retries exceeded with url: /crop/0x0:0x0/750x500/webp/photo/2022/11/21/4260757127.jpg (Caused by NewConnectionError('<urllib3.connection.HTTPSConnection object at 0x0000016565EC1370>: Failed to establish a new connection: [Errno 11001] getaddrinfo failed'))\n",
      "Could not download image from https://halalstore.jp/wp-content/uploads/2019/07/k-367-kacang-tanah-sariraya-500g-480yen.jpg: HTTPSConnectionPool(host='halalstore.jp', port=443): Max retries exceeded with url: /wp-content/uploads/2019/07/k-367-kacang-tanah-sariraya-500g-480yen.jpg (Caused by NewConnectionError('<urllib3.connection.HTTPSConnection object at 0x0000016565EC19A0>: Failed to establish a new connection: [Errno 11001] getaddrinfo failed'))\n",
      "Could not download image from 1200px-Painted_Pony_Bean.JPG (1200×900) (wikimedia.org): Failed to parse: 1200px-Painted_Pony_Bean.JPG (1200×900) (wikimedia.org)\n",
      "Could not download image from https://upload.wikimedia.org/wikipedia/commons/2/28/Stenoc_palus_100625-5191_mms.JPG: 403 Client Error: Forbidden. Please comply with the User-Agent policy: https://meta.wikimedia.org/wiki/User-Agent_policy for url: https://upload.wikimedia.org/wikipedia/commons/2/28/Stenoc_palus_100625-5191_mms.JPG\n",
      "Could not download image from https://s2.bukalapak.com/img/2370243413/large/20180830_215736_scaled.jpg: 404 Client Error: Not Found for url: https://s2.bukalapak.com/img/2370243413/large/20180830_215736_scaled.jpg\n",
      "Could not download image from https://assets.tokko.io/7785295b-a6a6-4936-ab19-a31759ef44d7/products/images/8f8a1078-27c5-43e8-8a32-93738de68b9d: HTTPSConnectionPool(host='assets.tokko.io', port=443): Max retries exceeded with url: /7785295b-a6a6-4936-ab19-a31759ef44d7/products/images/8f8a1078-27c5-43e8-8a32-93738de68b9d (Caused by SSLError(SSLEOFError(8, 'EOF occurred in violation of protocol (_ssl.c:1129)')))\n",
      "Could not download image from https://www.mongabay.co.id/wp-content/uploads/2017/11/Kemang.jpg: 403 Client Error: Forbidden for url: https://www.mongabay.co.id/wp-content/uploads/2017/11/Kemang.jpg\n",
      "Could not download image from https://blue.kumparan.com/image/upload/fl_progressive,fl_lossy,c_fill,q_auto:best,w_640/v1568729650/gegx4jyvwt2yemk2wou0.jpg: 403 Client Error: Forbidden for url: https://blue.kumparan.com/image/upload/fl_progressive,fl_lossy,c_fill,q_auto:best,w_640/v1568729650/gegx4jyvwt2yemk2wou0.jpg\n",
      "Could not download image from 13_20211016_144252_0012.jpg (1024×576) (wp.com): Failed to parse: 13_20211016_144252_0012.jpg (1024×576) (wp.com)\n",
      "Could not download image from https://www.satuharapan.com/uploads/cache/news_69316_1481712492.jpg: HTTPSConnectionPool(host='www.satuharapan.com', port=443): Max retries exceeded with url: /uploads/cache/news_69316_1481712492.jpg (Caused by NewConnectionError('<urllib3.connection.HTTPSConnection object at 0x0000016565ED8C70>: Failed to establish a new connection: [WinError 10060] A connection attempt failed because the connected party did not properly respond after a period of time, or established connection failed because connected host has failed to respond'))\n",
      "Could not download image from https://paxelmarket.co/wp-content/uploads/2022/06/Screen-Shot-2022-06-29-at-10.00.22.png: cannot write mode RGBA as JPEG\n",
      "Could not download image from 8597be9ee32588c99d9ad731093cd18a (640×640) (shopee.co.id): Failed to parse: 8597be9ee32588c99d9ad731093cd18a (640×640) (shopee.co.id)\n",
      "Could not download image from kripik_tempe_abadi.jpg (600×450) (bukalapak.com): Failed to parse: kripik_tempe_abadi.jpg (600×450) (bukalapak.com)\n",
      "Could not download image from https://s2.bukalapak.com/img/7559256151/large/kripik_tempe_abadi.jpg: 404 Client Error: Not Found for url: https://s2.bukalapak.com/img/7559256151/large/kripik_tempe_abadi.jpg\n",
      "Could not download image from https://alatpresplastik.com/wp-content/uploads/2022/01/kekekeru.jpg: 444 Client Error:  for url: https://alatpresplastik.com/wp-content/uploads/2022/01/kekekeru.jpg\n",
      "Could not download image from https://www.infopublik.id/assets/upload/headline//Singkong.jpg: 404 Client Error: Not Found for url: https://www.infopublik.id/assets/upload/headline//Singkong.jpg\n",
      "Could not download image from https://www.garnesia.com/images/news/b542.jpg: 403 Client Error: Forbidden for url: https://www.garnesia.com/images/news/b542.jpg\n",
      "Could not download image from https://faktualnews.co/images/2022/01/kluwek.png: cannot write mode RGBA as JPEG\n",
      "Could not download image from https://cms.sehatq.com/public/img/article_img/buah-kokosan-dan-duku-satu-keluarga-tapi-beda-rasa-1595398922.jpg: 522 Server Error:  for url: https://cms.sehatq.com/public/img/article_img/buah-kokosan-dan-duku-satu-keluarga-tapi-beda-rasa-1595398922.jpg\n",
      "Could not download image from AF079.jpg (360×360) (andrafarm.co.id): Failed to parse: AF079.jpg (360×360) (andrafarm.co.id)\n",
      "Could not download image from https://laz-img-sg.alicdn.com/p/cac8dce3faa0e4781f2e5ea5968dba20.png: cannot write mode RGBA as JPEG\n",
      "Could not download image from https://drive.google.com/file/d/1LZOGoU3M3XcPbU5_HaAZ26ybCTbiTXpT/view?usp=sharing: cannot identify image file <_io.BytesIO object at 0x0000016565EEA360>\n",
      "Could not download image from https://assets.suaramerdeka.com/crop/0x0:0x0/750x500/webp/photo/2023/01/03/3184254010.png: HTTPSConnectionPool(host='assets.suaramerdeka.com', port=443): Max retries exceeded with url: /crop/0x0:0x0/750x500/webp/photo/2023/01/03/3184254010.png (Caused by NewConnectionError('<urllib3.connection.HTTPSConnection object at 0x0000016565EEE2B0>: Failed to establish a new connection: [Errno 11001] getaddrinfo failed'))\n",
      "Could not download image from https://www.resepkuerenyah.com/wp-content/uploads/2015/05/Resep-Kue-Pia-Kacang-Hijau.jpg: 404 Client Error: Not Found for url: https://www.resepkuerenyah.com/wp-content/uploads/2015/05/Resep-Kue-Pia-Kacang-Hijau.jpg\n"
     ]
    },
    {
     "name": "stdout",
     "output_type": "stream",
     "text": [
      "Could not download image from https://upload.wikimedia.org/wikipedia/commons/thumb/1/1b/Kue_satu_2.JPG/640px-Kue_satu_2.JPG: 403 Client Error: Forbidden. Please comply with the User-Agent policy: https://meta.wikimedia.org/wiki/User-Agent_policy for url: https://upload.wikimedia.org/wikipedia/commons/thumb/1/1b/Kue_satu_2.JPG/640px-Kue_satu_2.JPG\n",
      "Could not download image from https://cms.sehatq.com/public/img/article_img/memasak-dengan-lemak-babi-sehat-atau-tidak-1626927917.jpg: 522 Server Error:  for url: https://cms.sehatq.com/public/img/article_img/memasak-dengan-lemak-babi-sehat-atau-tidak-1626927917.jpg\n",
      "Could not download image from https://assets.ayobandung.com/crop/0x0:0x0/750x500/webp/photo/2022/12/07/254567740.jpg: HTTPSConnectionPool(host='assets.ayobandung.com', port=443): Max retries exceeded with url: /crop/0x0:0x0/750x500/webp/photo/2022/12/07/254567740.jpg (Caused by NewConnectionError('<urllib3.connection.HTTPSConnection object at 0x0000016565EFCEB0>: Failed to establish a new connection: [Errno 11001] getaddrinfo failed'))\n",
      "Could not download image from https://sibejajo.com/asset/foto_produk/FB_IMG_1646812082738.jpg: HTTPSConnectionPool(host='sibejajo.com', port=443): Max retries exceeded with url: /asset/foto_produk/FB_IMG_1646812082738.jpg (Caused by NewConnectionError('<urllib3.connection.HTTPSConnection object at 0x0000016565EFC4F0>: Failed to establish a new connection: [Errno 11001] getaddrinfo failed'))\n",
      "Could not download image from https://ik.imagekit.io/dcjlghyytp1/2020/10/mangga-indramayu.jpg?tr=f-auto,w-380: 404 Client Error: Not Found for url: https://ik.imagekit.io/dcjlghyytp1/2020/10/mangga-indramayu.jpg?tr=f-auto,w-380\n",
      "Could not download image from https://www.rumahtanaman.com/wp-content/uploads/2014/05/GG.jpg: HTTPSConnectionPool(host='www.rumahtanaman.com', port=443): Max retries exceeded with url: /wp-content/uploads/2014/05/GG.jpg (Caused by NewConnectionError('<urllib3.connection.HTTPSConnection object at 0x0000016565F055B0>: Failed to establish a new connection: [Errno 11002] getaddrinfo failed'))\n",
      "Could not download image from https://www.rumahtanaman.com/wp-content/uploads/2018/01/Slide8.jpg: HTTPSConnectionPool(host='www.rumahtanaman.com', port=443): Max retries exceeded with url: /wp-content/uploads/2018/01/Slide8.jpg (Caused by NewConnectionError('<urllib3.connection.HTTPSConnection object at 0x0000016565F05700>: Failed to establish a new connection: [Errno 11002] getaddrinfo failed'))\n",
      "Could not download image from https://arahpantura.aboutsemarang.id/wp-content/uploads/2023/05/A6CCD5BB-60B4-46F0-87C4-A63241A9D6FC.png: cannot write mode RGBA as JPEG\n",
      "Could not download image from https://www.resepkuerenyah.com/wp-content/uploads/2016/11/45.-resep-martabak-mesir.jpg: 404 Client Error: Not Found for url: https://www.resepkuerenyah.com/wp-content/uploads/2016/11/45.-resep-martabak-mesir.jpg\n",
      "Could not download image from https://www.masakapahariini.com/wp-content/uploads/2020/10/Martabak-Telor-Bayam.jpg: 403 Client Error: Forbidden for url: https://www.masakapahariini.com/wp-content/uploads/2020/10/Martabak-Telor-Bayam.jpg\n",
      "Could not download image from https://blue.kumparan.com/image/upload/fl_progressive,fl_lossy,c_fill,q_auto:best,w_640/v1571737858/tgrthwihqglldjcu0ptw.jpg: 403 Client Error: Forbidden for url: https://blue.kumparan.com/image/upload/fl_progressive,fl_lossy,c_fill,q_auto:best,w_640/v1571737858/tgrthwihqglldjcu0ptw.jpg\n",
      "Could not download image from https://upload.wikimedia.org/wikipedia/commons/a/a9/Indonesian_bakso%2C_with_noodle_and_bean_sprouts%2C_April_2018_%2803%29.jpg: 403 Client Error: Forbidden. Please comply with the User-Agent policy: https://meta.wikimedia.org/wiki/User-Agent_policy for url: https://upload.wikimedia.org/wikipedia/commons/a/a9/Indonesian_bakso%2C_with_noodle_and_bean_sprouts%2C_April_2018_%2803%29.jpg\n",
      "Could not download image from https://kbu-cdn.com/dk/wp-content/uploads/mie-goreng-korea.jpg: 403 Client Error: Forbidden for url: https://kbu-cdn.com/dk/wp-content/uploads/mie-goreng-korea.jpg\n",
      "Could not download image from https://assets.ayobandung.com/crop/0x0:0x0/750x500/webp/photo/2022/10/13/1236905540.jpg: HTTPSConnectionPool(host='assets.ayobandung.com', port=443): Max retries exceeded with url: /crop/0x0:0x0/750x500/webp/photo/2022/10/13/1236905540.jpg (Caused by NewConnectionError('<urllib3.connection.HTTPSConnection object at 0x0000016565F0E070>: Failed to establish a new connection: [Errno 11001] getaddrinfo failed'))\n",
      "Could not download image from https://drive.google.com/file/d/1LZOGoU3M3XcPbU5_HaAZ26ybCTbiTXpT/view?usp=sharing: cannot identify image file <_io.BytesIO object at 0x0000016565F04090>\n",
      "Could not download image from https://www.masakapahariini.com/wp-content/uploads/2019/11/nasi-tim-beras-merah.jpg: 403 Client Error: Forbidden for url: https://www.masakapahariini.com/wp-content/uploads/2019/11/nasi-tim-beras-merah.jpg\n",
      "Could not download image from https://upload.wikimedia.org/wikipedia/commons/thumb/b/bd/Nasi_Gmk.jpg/1200px-Nasi_Gmk.jpg: 403 Client Error: Forbidden. Please comply with the User-Agent policy: https://meta.wikimedia.org/wiki/User-Agent_policy for url: https://upload.wikimedia.org/wikipedia/commons/thumb/b/bd/Nasi_Gmk.jpg/1200px-Nasi_Gmk.jpg\n",
      "Could not download image from https://upload.wikimedia.org/wikipedia/commons/c/c0/Nasi_Minyak_Palembang_1.jpg: 403 Client Error: Forbidden. Please comply with the User-Agent policy: https://meta.wikimedia.org/wiki/User-Agent_policy for url: https://upload.wikimedia.org/wikipedia/commons/c/c0/Nasi_Minyak_Palembang_1.jpg\n",
      "Could not download image from https://www.masakapahariini.com/wp-content/uploads/2022/08/cara-membuat-nasi-tim-ayam-sayuran-mpasi.jpg: 403 Client Error: Forbidden for url: https://www.masakapahariini.com/wp-content/uploads/2022/08/cara-membuat-nasi-tim-ayam-sayuran-mpasi.jpg\n",
      "Could not download image from 79282965_4a911ce8-9d69-4db9-98c3-9efe78d49d24_724_724 (700×700) (tokopedia.net): Failed to parse: 79282965_4a911ce8-9d69-4db9-98c3-9efe78d49d24_724_724 (700×700) (tokopedia.net)\n",
      "Could not download image from https://assets.ayobandung.com/crop/0x0:0x0/750x500/webp/photo/2022/07/19/2363852219.png: HTTPSConnectionPool(host='assets.ayobandung.com', port=443): Max retries exceeded with url: /crop/0x0:0x0/750x500/webp/photo/2022/07/19/2363852219.png (Caused by NewConnectionError('<urllib3.connection.HTTPSConnection object at 0x0000016565F1DA00>: Failed to establish a new connection: [Errno 11001] getaddrinfo failed'))\n",
      "Could not download image from https://kbu-cdn.com/dk/wp-content/uploads/oncom-goreng.jpg: 403 Client Error: Forbidden for url: https://kbu-cdn.com/dk/wp-content/uploads/oncom-goreng.jpg\n",
      "Could not download image from https://www.masakapahariini.com/wp-content/uploads/2020/10/resep-onde-onde.jpg: 403 Client Error: Forbidden for url: https://www.masakapahariini.com/wp-content/uploads/2020/10/resep-onde-onde.jpg\n",
      "Could not download image from https://drive.google.com/file/d/1LZOGoU3M3XcPbU5_HaAZ26ybCTbiTXpT/view?usp=sharing: cannot identify image file <_io.BytesIO object at 0x0000016565F19BD0>\n",
      "Could not download image from https://drive.google.com/file/d/1LZOGoU3M3XcPbU5_HaAZ26ybCTbiTXpT/view?usp=sharing: cannot identify image file <_io.BytesIO object at 0x0000016565F19360>\n",
      "Could not download image from https://upload.wikimedia.org/wikipedia/commons/thumb/0/01/Papeda%2C_Kuah_Kuning%2C_Ikan_Tude_Bakar_2.jpg/1200px-Papeda%2C_Kuah_Kuning%2C_Ikan_Tude_Bakar_2.jpg: 403 Client Error: Forbidden. Please comply with the User-Agent policy: https://meta.wikimedia.org/wiki/User-Agent_policy for url: https://upload.wikimedia.org/wikipedia/commons/thumb/0/01/Papeda%2C_Kuah_Kuning%2C_Ikan_Tude_Bakar_2.jpg/1200px-Papeda%2C_Kuah_Kuning%2C_Ikan_Tude_Bakar_2.jpg\n",
      "Could not download image from https://cdn2.tstatic.net/tribunnewswiki/foto/bank/images/Ilustrasi-pelepah-manuk-khas-NTT2.jpg: HTTPSConnectionPool(host='cdn2.tstatic.net', port=443): Max retries exceeded with url: /tribunnewswiki/foto/bank/images/Ilustrasi-pelepah-manuk-khas-NTT2.jpg (Caused by NewConnectionError('<urllib3.connection.HTTPSConnection object at 0x0000016565F26040>: Failed to establish a new connection: [Errno 11001] getaddrinfo failed'))\n"
     ]
    },
    {
     "name": "stdout",
     "output_type": "stream",
     "text": [
      "Could not download image from https://assets.ayobandung.com/crop/0x0:0x0/750x500/webp/photo/halloseleb/2020/11/Pempek-1.png: HTTPSConnectionPool(host='assets.ayobandung.com', port=443): Max retries exceeded with url: /crop/0x0:0x0/750x500/webp/photo/halloseleb/2020/11/Pempek-1.png (Caused by NewConnectionError('<urllib3.connection.HTTPSConnection object at 0x0000016565F2A550>: Failed to establish a new connection: [Errno 11001] getaddrinfo failed'))\n",
      "Could not download image from https://static.readers.id/files/images/20230203-60b84fc2b2b72.jpg: 403 Client Error: Forbidden for url: https://static.readers.id/files/images/20230203-60b84fc2b2b72.jpg\n",
      "Could not download image from https://cdn2.tstatic.net/travel/foto/bank/images/pepes-oncom.jpg: HTTPSConnectionPool(host='cdn2.tstatic.net', port=443): Max retries exceeded with url: /travel/foto/bank/images/pepes-oncom.jpg (Caused by NewConnectionError('<urllib3.connection.HTTPSConnection object at 0x0000016565F2A880>: Failed to establish a new connection: [Errno 11001] getaddrinfo failed'))\n",
      "Could not download image from https://images.tokopedia.net/img/cache/500-square/VqbcmM/2021/7/28/7234b1e2-2f75-4f28-a167-2b163cfb0484.jpg: cannot write mode P as JPEG\n",
      "Could not download image from https://sibejajo.com/asset/foto_produk/pisang_ambon.jpg: HTTPSConnectionPool(host='sibejajo.com', port=443): Max retries exceeded with url: /asset/foto_produk/pisang_ambon.jpg (Caused by NewConnectionError('<urllib3.connection.HTTPSConnection object at 0x0000016566F72C40>: Failed to establish a new connection: [Errno 11001] getaddrinfo failed'))\n",
      "Could not download image from https://assets.tokko.io/0feaf09b-2761-465e-98df-a8ae8e3d0837/products/images/9239a74b-b3ba-43b0-8368-88ae7940ff5e: HTTPSConnectionPool(host='assets.tokko.io', port=443): Max retries exceeded with url: /0feaf09b-2761-465e-98df-a8ae8e3d0837/products/images/9239a74b-b3ba-43b0-8368-88ae7940ff5e (Caused by SSLError(SSLEOFError(8, 'EOF occurred in violation of protocol (_ssl.c:1129)')))\n",
      "Could not download image from https://s3.theasianparent.com/cdn-cgi/image/width=450,quality=90/tap-assets-prod/wp-content/uploads/sites/24/2023/01/Pisang-Genderuwo.jpg: 404 Client Error: Not Found for url: https://s3.theasianparent.com/cdn-cgi/image/width=450,quality=90/tap-assets-prod/wp-content/uploads/sites/24/2023/01/Pisang-Genderuwo.jpg\n",
      "Could not download image from https://amantasegar.com/wp-content/uploads/2022/03/pisang-lampung-web.jpg: HTTPSConnectionPool(host='amantasegar.com', port=443): Max retries exceeded with url: /wp-content/uploads/2022/03/pisang-lampung-web.jpg (Caused by NewConnectionError('<urllib3.connection.HTTPSConnection object at 0x0000016566F74640>: Failed to establish a new connection: [Errno 11001] getaddrinfo failed'))\n",
      "Could not download image from https://suriahelanglui.com/wp-content/uploads/2012/09/PisangLidi1-1.jpg: 403 Client Error: Forbidden for url: https://suriahelanglui.com/wp-content/uploads/2012/09/PisangLidi1-1.jpg\n",
      "Could not download image from https://drive.google.com/file/d/1LZOGoU3M3XcPbU5_HaAZ26ybCTbiTXpT/view?usp=sharing: cannot identify image file <_io.BytesIO object at 0x0000016566F779F0>\n",
      "Could not download image from https://upload.wikimedia.org/wikipedia/commons/thumb/5/50/Citrus_hystrix_dsc07772.jpg/250px-Citrus_hystrix_dsc07772.jpg: 403 Client Error: Forbidden. Please comply with the User-Agent policy: https://meta.wikimedia.org/wiki/User-Agent_policy for url: https://upload.wikimedia.org/wikipedia/commons/thumb/5/50/Citrus_hystrix_dsc07772.jpg/250px-Citrus_hystrix_dsc07772.jpg\n",
      "Could not download image from https://upload.wikimedia.org/wikipedia/commons/thumb/9/97/Portunus_sanguinolentus.jpg/1200px-Portunus_sanguinolentus.jpg: 403 Client Error: Forbidden. Please comply with the User-Agent policy: https://meta.wikimedia.org/wiki/User-Agent_policy for url: https://upload.wikimedia.org/wikipedia/commons/thumb/9/97/Portunus_sanguinolentus.jpg/1200px-Portunus_sanguinolentus.jpg\n",
      "Could not download image from https://www.masakapahariini.com/wp-content/uploads/2018/04/resep-rawon-daging-500x300.jpg: 403 Client Error: Forbidden for url: https://www.masakapahariini.com/wp-content/uploads/2018/04/resep-rawon-daging-500x300.jpg\n",
      "Could not download image from https://drive.google.com/file/d/1LZOGoU3M3XcPbU5_HaAZ26ybCTbiTXpT/view?usp=sharing: cannot identify image file <_io.BytesIO object at 0x0000016566F80180>\n",
      "Could not download image from https://cdn2.tstatic.net/tribunnewswiki/foto/bank/images/sagu-lempengan.jpg: HTTPSConnectionPool(host='cdn2.tstatic.net', port=443): Max retries exceeded with url: /tribunnewswiki/foto/bank/images/sagu-lempengan.jpg (Caused by NewConnectionError('<urllib3.connection.HTTPSConnection object at 0x0000016566F882B0>: Failed to establish a new connection: [Errno 11001] getaddrinfo failed'))\n",
      "Could not download image from https://static.sehatq.com/content/review/image/1644897313.png: cannot write mode P as JPEG\n",
      "Could not download image from https://bosmayur.com/wp-content/uploads/2020/10/SAWI-HIJAU-TAIWAN.jpg: 522 Server Error:  for url: https://bosmayur.com/wp-content/uploads/2020/10/SAWI-HIJAU-TAIWAN.jpg\n",
      "Could not download image from https://distan.sukabumikota.go.id/wp-content/uploads/2016/01/IMG_20130731_171016-e1452758317382.jpg: HTTPSConnectionPool(host='distan.sukabumikota.go.id', port=443): Max retries exceeded with url: /wp-content/uploads/2016/01/IMG_20130731_171016-e1452758317382.jpg (Caused by NewConnectionError('<urllib3.connection.HTTPSConnection object at 0x0000016566F97B80>: Failed to establish a new connection: [WinError 10060] A connection attempt failed because the connected party did not properly respond after a period of time, or established connection failed because connected host has failed to respond'))\n",
      "Could not download image from https://kbu-cdn.com/dk/wp-content/uploads/sayur-asem-betawi.jpg: 403 Client Error: Forbidden for url: https://kbu-cdn.com/dk/wp-content/uploads/sayur-asem-betawi.jpg\n",
      "Could not download image from https://image.akurat.co/images/uploads/images/akurat_20181220020604_MYQ3rr.jpg: HTTPSConnectionPool(host='image.akurat.co', port=443): Max retries exceeded with url: /images/uploads/images/akurat_20181220020604_MYQ3rr.jpg (Caused by SSLError(CertificateError(\"hostname 'image.akurat.co' doesn't match '206.189.154.123'\")))\n",
      "Could not download image from https://cdn2.tstatic.net/tribunnewswiki/foto/bank/images/Kohu-Kohu-1.jpg: HTTPSConnectionPool(host='cdn2.tstatic.net', port=443): Max retries exceeded with url: /tribunnewswiki/foto/bank/images/Kohu-Kohu-1.jpg (Caused by NewConnectionError('<urllib3.connection.HTTPSConnection object at 0x0000016566F99040>: Failed to establish a new connection: [Errno 11001] getaddrinfo failed'))\n",
      "Could not download image from https://assets.ayobandung.com/crop/0x0:0x0/750x500/webp/photo/2023/03/28/ndusuk-975786137.jpg: HTTPSConnectionPool(host='assets.ayobandung.com', port=443): Max retries exceeded with url: /crop/0x0:0x0/750x500/webp/photo/2023/03/28/ndusuk-975786137.jpg (Caused by NewConnectionError('<urllib3.connection.HTTPSConnection object at 0x0000016566F99340>: Failed to establish a new connection: [Errno 11001] getaddrinfo failed'))\n",
      "Could not download image from https://www.batamfresh.com/wp-content/uploads/2015/12/Selada-Keriting.jpg: 404 Client Error: Not Found for url: https://www.batamfresh.com/wp-content/uploads/2015/12/Selada-Keriting.jpg\n",
      "Could not download image from https://drive.google.com/file/d/1LZOGoU3M3XcPbU5_HaAZ26ybCTbiTXpT/view?usp=sharing: cannot identify image file <_io.BytesIO object at 0x0000016566F9AB30>\n",
      "Could not download image from https://www.ruparupa.com/blog/wp-content/uploads/2021/06/Screen-Shot-2021-06-21-at-14.11.27.png: cannot write mode RGBA as JPEG\n",
      "Could not download image from https://gallery-jateng.poskota.co.id/storage/Foto/2020/1608103380_1-org.png: 403 Client Error: Forbidden for url: https://poskota.co.id/kanal/news\n",
      "Could not download image from https://www.masakapahariini.com/wp-content/uploads/2019/06/5.jpg: 403 Client Error: Forbidden for url: https://www.masakapahariini.com/wp-content/uploads/2019/06/5.jpg\n",
      "Could not download image from https://www.masakapahariini.com/wp-content/uploads/2020/02/soto-kudus-7.jpg: 403 Client Error: Forbidden for url: https://www.masakapahariini.com/wp-content/uploads/2020/02/soto-kudus-7.jpg\n"
     ]
    },
    {
     "name": "stdout",
     "output_type": "stream",
     "text": [
      "Could not download image from https://www.masakapahariini.com/wp-content/uploads/2022/05/sukiyaki-praktis.jpg: 403 Client Error: Forbidden for url: https://www.masakapahariini.com/wp-content/uploads/2022/05/sukiyaki-praktis.jpg\n",
      "Could not download image from https://blue.kumparan.com/image/upload/fl_progressive,fl_lossy,c_fill,q_auto:best,w_640/v1535275935/ctbvshsk4dqp293ivbec.jpg: 403 Client Error: Forbidden for url: https://blue.kumparan.com/image/upload/fl_progressive,fl_lossy,c_fill,q_auto:best,w_640/v1535275935/ctbvshsk4dqp293ivbec.jpg\n",
      "Could not download image from https://cdn.idntimes.com/content-images/post/20210303/jimikanda1-75d34d7a3b793cc5fa6a26da69daca26_600x400.png: cannot write mode RGBA as JPEG\n",
      "Could not download image from https://www.mongabay.co.id/wp-content/uploads/2022/03/Sayur-lilin1-768x512.jpg: 403 Client Error: Forbidden for url: https://www.mongabay.co.id/wp-content/uploads/2022/03/Sayur-lilin1-768x512.jpg\n",
      "Could not download image from https://assets.hops.id/crop/0x0:0x0/750x500/webp/photo/hops/2020/08/different-egg-yolk-colors.jpg: HTTPSConnectionPool(host='assets.hops.id', port=443): Max retries exceeded with url: /crop/0x0:0x0/750x500/webp/photo/hops/2020/08/different-egg-yolk-colors.jpg (Caused by NewConnectionError('<urllib3.connection.HTTPSConnection object at 0x0000016566FBD3A0>: Failed to establish a new connection: [Errno 11001] getaddrinfo failed'))\n",
      "Could not download image from https://img.celebrities.id/okz/700/5Mzp26/master_j6A38lc90K_1541_telur_burung_puyuh.jpg: 522 Server Error:  for url: https://img.celebrities.id/okz/700/5Mzp26/master_j6A38lc90K_1541_telur_burung_puyuh.jpg\n",
      "Could not download image from https://upload.wikimedia.org/wikipedia/commons/1/1e/Tempe_gembus_160130-0345B_rwk.JPG: 403 Client Error: Forbidden. Please comply with the User-Agent policy: https://meta.wikimedia.org/wiki/User-Agent_policy for url: https://upload.wikimedia.org/wikipedia/commons/1/1e/Tempe_gembus_160130-0345B_rwk.JPG\n",
      "Could not download image from https://fibercreme.com/wp-content/uploads/2021/05/tempe-lombok-ijo-santan_.jpg: ('Connection aborted.', ConnectionResetError(10054, 'An existing connection was forcibly closed by the remote host', None, 10054, None))\n",
      "Could not download image from https://upload.wikimedia.org/wikipedia/commons/d/da/Tempoyak_Ikan_Patin_2.JPG: 403 Client Error: Forbidden. Please comply with the User-Agent policy: https://meta.wikimedia.org/wiki/User-Agent_policy for url: https://upload.wikimedia.org/wikipedia/commons/d/da/Tempoyak_Ikan_Patin_2.JPG\n",
      "Could not download image from https://thumbs.vdvc.id/olret/images/original/2022/07/21/62d900a97984b-manfaat-tepung-jagung_olret.jpg: HTTPSConnectionPool(host='thumbs.vdvc.id', port=443): Max retries exceeded with url: /olret/images/original/2022/07/21/62d900a97984b-manfaat-tepung-jagung_olret.jpg (Caused by NewConnectionError('<urllib3.connection.HTTPSConnection object at 0x0000016566FCD0D0>: Failed to establish a new connection: [Errno 11001] getaddrinfo failed'))\n",
      "Could not download image from https://www.melatiputrajaya.com/wp-content/uploads/2021/01/Tepung-Kedelai-sumber-SehatQ.jpg: ('Connection aborted.', ConnectionResetError(10054, 'An existing connection was forcibly closed by the remote host', None, 10054, None))\n",
      "Could not download image from https://jakarta.akurat.co/storage/2023/05/tentang-tepung-tapioka.jpg: 404 Client Error: Not Found for url: https://jakarta.akurat.co/storage/2023/05/tentang-tepung-tapioka.jpg\n",
      "Could not download image from https://welovesupermom.com/id/blog/wp-content/uploads/2022/09/Rekomendasi-Merk-Susu-Formula-yang-Baik-untuk-Pencernaan-Bayi.png: cannot write mode RGBA as JPEG\n",
      "Could not download image from https://i0.wp.com/technology-indonesia.com/wp-content/uploads/2021/07/INFO-TEPUNG-TALAS.jpg?resize=700%2C544: 403 Client Error: Forbidden for url: https://i0.wp.com/technology-indonesia.com/wp-content/uploads/2021/07/INFO-TEPUNG-TALAS.jpg?resize=700%2C544\n",
      "Could not download image from https://img.lovepik.com/photo/20211119/medium/lovepik-fresh-purple-eggplant-picture_500177124.jpg: 403 Client Error: Forbidden for url: https://img.lovepik.com/photo/20211119/medium/lovepik-fresh-purple-eggplant-picture_500177124.jpg\n",
      "Could not download image from https://www.satuharapan.com/uploads/cache/news_75102_1493715767.jpg: HTTPSConnectionPool(host='www.satuharapan.com', port=443): Max retries exceeded with url: /uploads/cache/news_75102_1493715767.jpg (Caused by NewConnectionError('<urllib3.connection.HTTPSConnection object at 0x0000016566FC6EB0>: Failed to establish a new connection: [WinError 10060] A connection attempt failed because the connected party did not properly respond after a period of time, or established connection failed because connected host has failed to respond'))\n",
      "Could not download image from https://gudangilmuku.com/wp-content/uploads/2023/03/Cara-Membuat-Tipa-Tipa-Khas-Sumatera-Utara.webp: HTTPSConnectionPool(host='gudangilmuku.com', port=443): Max retries exceeded with url: /wp-content/uploads/2023/03/Cara-Membuat-Tipa-Tipa-Khas-Sumatera-Utara.webp (Caused by NewConnectionError('<urllib3.connection.HTTPSConnection object at 0x0000016566FDC700>: Failed to establish a new connection: [Errno 11001] getaddrinfo failed'))\n",
      "Could not download image from https://arafuru.com/wp-content/uploads/2014/07/cara-membuat-tauge.jpg: cannot identify image file <_io.BytesIO object at 0x0000016566FDE540>\n",
      "Could not download image from https://assets.ayobandung.com/crop/0x0:0x0/750x500/webp/photo/2022/04/05/2356668642.jpeg: HTTPSConnectionPool(host='assets.ayobandung.com', port=443): Max retries exceeded with url: /crop/0x0:0x0/750x500/webp/photo/2022/04/05/2356668642.jpeg (Caused by NewConnectionError('<urllib3.connection.HTTPSConnection object at 0x0000016566FE07F0>: Failed to establish a new connection: [Errno 11001] getaddrinfo failed'))\n",
      "Could not download image from https://ik.imagekit.io/dcjlghyytp1/2020/01/tomatoes-5356_1920-1.jpg?tr=f-auto: 404 Client Error: Not Found for url: https://ik.imagekit.io/dcjlghyytp1/2020/01/tomatoes-5356_1920-1.jpg?tr=f-auto\n",
      "Could not download image from https://blog.sayurbox.com/wp-content/uploads/2020/01/tomato-4441117_1920-595x334.jpg: HTTPSConnectionPool(host='blog.sayurbox.com', port=443): Max retries exceeded with url: /wp-content/uploads/2020/01/tomato-4441117_1920-595x334.jpg (Caused by NewConnectionError('<urllib3.connection.HTTPSConnection object at 0x0000016566FE0430>: Failed to establish a new connection: [WinError 10060] A connection attempt failed because the connected party did not properly respond after a period of time, or established connection failed because connected host has failed to respond'))\n",
      "Could not download image from https://assets.promediateknologi.id/crop/0x0:0x0/750x500/webp/photo/jawapos/2022/11/daun-ubi-jalar.jpg: 403 Client Error: Forbidden for url: https://assets.promediateknologi.id/crop/0x0:0x0/750x500/webp/photo/jawapos/2022/11/daun-ubi-jalar.jpg\n",
      "Could not download image from https://img.lovepik.com/photo/20211207/medium/lovepik-dried-shrimp-picture_501573420.jpg: 403 Client Error: Forbidden for url: https://img.lovepik.com/photo/20211207/medium/lovepik-dried-shrimp-picture_501573420.jpg\n",
      "Could not download image from https://blue.kumparan.com/image/upload/fl_progressive,fl_lossy,c_fill,q_auto:best,w_640/v1577185515/rd2me1ecjkzvtscug50l.jpg: 403 Client Error: Forbidden for url: https://blue.kumparan.com/image/upload/fl_progressive,fl_lossy,c_fill,q_auto:best,w_640/v1577185515/rd2me1ecjkzvtscug50l.jpg\n",
      "Could not download image from https://bakeitwithlove.com/wp-content/uploads/2022/10/what-is-vermicelli-sq.jpg: 403 Client Error: Forbidden for url: https://bakeitwithlove.com/wp-content/uploads/2022/10/what-is-vermicelli-sq.jpg\n"
     ]
    }
   ],
   "source": [
    "# List to keep track of rows to keep\n",
    "rows_to_keep = []\n",
    "image_counter = 0\n",
    "# Iterate through the rows of the dataframe\n",
    "for index, row in df.iterrows():\n",
    "    url = row['image']  # Replace 'image_url' with the name of the column that contains the URLs\n",
    "    try:\n",
    "        # Fetch the image\n",
    "        response = requests.get(url)\n",
    "        response.raise_for_status()  # Check if the request was successful\n",
    "        img = Image.open(BytesIO(response.content))\n",
    "        \n",
    "        # Save the image\n",
    "        img_name = f\"{image_counter}.jpg\"  # Or any naming convention you prefer\n",
    "        img_path = os.path.join(image_dir, img_name)\n",
    "        img.save(img_path)\n",
    "        image_counter +=1\n",
    "        # Add the row to the list of rows to keep\n",
    "        rows_to_keep.append(row)\n",
    "    except Exception as e:\n",
    "        print(f\"Could not download image from {url}: {e}\")\n",
    "\n"
   ]
  },
  {
   "cell_type": "code",
   "execution_count": 9,
   "id": "2b4b4e59",
   "metadata": {},
   "outputs": [
    {
     "name": "stdout",
     "output_type": "stream",
     "text": [
      "Images downloaded and saved to 'images'. Cleaned dataset saved to 'cleaned_dataset.csv'.\n"
     ]
    }
   ],
   "source": [
    "# Create a new DataFrame with only the rows for which images were successfully downloaded\n",
    "df_cleaned = pd.DataFrame(rows_to_keep)\n",
    "\n",
    "# Save the cleaned dataset\n",
    "df_cleaned.to_csv('C:/Users/DELL/Desktop/Internship/cleaned_dataset.csv', index=False)\n",
    "\n",
    "print(f\"Images downloaded and saved to '{image_dir}'. Cleaned dataset saved to 'cleaned_dataset.csv'.\")"
   ]
  },
  {
   "cell_type": "code",
   "execution_count": 16,
   "id": "659c1e4d",
   "metadata": {},
   "outputs": [
    {
     "name": "stdout",
     "output_type": "stream",
     "text": [
      "   id  calories  proteins   fat  carbohydrate                name  \\\n",
      "0   1     280.0       9.2  28.4           0.0                Abon   \n",
      "1   2     513.0      23.7  37.0          21.3        Abon haruwan   \n",
      "2   3       0.0       0.0   0.2           0.0           Agar-agar   \n",
      "3   4      45.0       1.1   0.4          10.8  Akar tonjong segar   \n",
      "4   5      37.0       4.4   0.5           3.8       Aletoge segar   \n",
      "\n",
      "                                               image  \n",
      "0  https://img-cdn.medkomtek.com/PbrY9X3ignQ8sVuj...  \n",
      "1  https://img-global.cpcdn.com/recipes/cbf330fbd...  \n",
      "2  https://res.cloudinary.com/dk0z4ums3/image/upl...  \n",
      "3  https://images.tokopedia.net/img/cache/200-squ...  \n",
      "4  https://nilaigizi.com/assets/images/produk/pro...  \n"
     ]
    }
   ],
   "source": [
    "# Load the dataset\n",
    "file_path = 'C:/Users/DELL/Desktop/Internship/cleaned_dataset.csv'\n",
    "data = pd.read_csv(file_path)\n",
    "print(data.head())"
   ]
  },
  {
   "cell_type": "code",
   "execution_count": 17,
   "id": "42754942",
   "metadata": {},
   "outputs": [
    {
     "name": "stdout",
     "output_type": "stream",
     "text": [
      "   calories  proteins   fat  carbohydrate\n",
      "0     280.0       9.2  28.4           0.0\n",
      "1     513.0      23.7  37.0          21.3\n",
      "2       0.0       0.0   0.2           0.0\n",
      "3      45.0       1.1   0.4          10.8\n",
      "4      37.0       4.4   0.5           3.8\n"
     ]
    }
   ],
   "source": [
    "# Drop unnecessray column\n",
    "new_data = data.drop(columns = ['id','image','name'], inplace=True)\n",
    "Last_cleaned_data = pd.DataFrame(data)\n",
    "Last_cleaned_data.to_csv('C:/Users/DELL/Desktop/Internship/Last_cleaned_dataset.csv', index=False)\n",
    "print(data.head())\n"
   ]
  },
  {
   "cell_type": "code",
   "execution_count": 18,
   "id": "658f9c41",
   "metadata": {},
   "outputs": [
    {
     "name": "stdout",
     "output_type": "stream",
     "text": [
      "      calories  proteins   fat  carbohydrate\n",
      "0        280.0       9.2  28.4           0.0\n",
      "1        513.0      23.7  37.0          21.3\n",
      "2          0.0       0.0   0.2           0.0\n",
      "3         45.0       1.1   0.4          10.8\n",
      "4         37.0       4.4   0.5           3.8\n",
      "...        ...       ...   ...           ...\n",
      "1118      42.0       1.2   0.6           9.3\n",
      "1119      37.0       1.0   0.6           8.3\n",
      "1120      28.0       0.7   0.5           6.3\n",
      "1121     254.0       3.0   1.1          58.1\n",
      "1122      52.0       3.3   2.5           4.0\n",
      "\n",
      "[1123 rows x 4 columns]\n"
     ]
    }
   ],
   "source": [
    "print(Last_cleaned_data)"
   ]
  }
 ],
 "metadata": {
  "kernelspec": {
   "display_name": "Python 3 (ipykernel)",
   "language": "python",
   "name": "python3"
  },
  "language_info": {
   "codemirror_mode": {
    "name": "ipython",
    "version": 3
   },
   "file_extension": ".py",
   "mimetype": "text/x-python",
   "name": "python",
   "nbconvert_exporter": "python",
   "pygments_lexer": "ipython3",
   "version": "3.9.13"
  }
 },
 "nbformat": 4,
 "nbformat_minor": 5
}
