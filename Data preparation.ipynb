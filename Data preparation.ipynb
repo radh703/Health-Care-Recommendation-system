{
 "cells": [
  {
   "cell_type": "code",
   "execution_count": 1,
   "id": "58b5f2ec",
   "metadata": {},
   "outputs": [],
   "source": [
    "import pandas as pd"
   ]
  },
  {
   "cell_type": "code",
   "execution_count": 7,
   "id": "a9f1f450",
   "metadata": {},
   "outputs": [],
   "source": [
    "file_path_users = 'C:/Users/DELL/Desktop/backend-nutrition-count/recommendation_system_dataset/user_Profiles.csv'\n",
    "user_profiles = pd.read_csv(file_path_users )"
   ]
  },
  {
   "cell_type": "code",
   "execution_count": 9,
   "id": "a9a9e9ee",
   "metadata": {},
   "outputs": [
    {
     "name": "stdout",
     "output_type": "stream",
     "text": [
      "  User_Id  Veg_Non   Nutrient  \\\n",
      "0  User_1  non-veg   chloride   \n",
      "1  User_2      veg   chloride   \n",
      "2  User_3      veg  magnesium   \n",
      "3  User_4      veg  vitamin_e   \n",
      "4  User_5  non-veg  vitamin_c   \n",
      "\n",
      "                                             Disease  \\\n",
      "0     anemia kidney_disease goitre rickets pregnancy   \n",
      "1                                             goitre   \n",
      "2    cancer hypertension goitre heart_disease scurvy   \n",
      "3   cancer kidney_disease obesity anemia heart_di...   \n",
      "4     anemia kidney_disease goitre rickets pregnancy   \n",
      "\n",
      "                                                Diet  \n",
      "0   type_a_diet high_protien_diet low_carb_diet l...  \n",
      "1                         high_fiber_diet vegan_diet  \n",
      "2   high_fiber_diet ketogenic_diet high_protien_diet  \n",
      "3   high_fiber_diet ketogenic_diet gluten_free_di...  \n",
      "4   type_a_diet high_protien_diet low_carb_diet l...  \n"
     ]
    }
   ],
   "source": [
    "print(user_profiles.head())"
   ]
  },
  {
   "cell_type": "code",
   "execution_count": 11,
   "id": "f6f3e935",
   "metadata": {},
   "outputs": [
    {
     "name": "stdout",
     "output_type": "stream",
     "text": [
      "User_Id     0\n",
      "Veg_Non     0\n",
      "Nutrient    0\n",
      "Disease     0\n",
      "Diet        0\n",
      "dtype: int64\n"
     ]
    }
   ],
   "source": [
    "print(user_profiles.isnull().sum())"
   ]
  },
  {
   "cell_type": "code",
   "execution_count": 16,
   "id": "09fbc23e",
   "metadata": {},
   "outputs": [
    {
     "name": "stdout",
     "output_type": "stream",
     "text": [
      "Collecting prettytable\n",
      "  Downloading prettytable-3.10.2-py3-none-any.whl (28 kB)\n",
      "Requirement already satisfied: wcwidth in c:\\users\\dell\\anaconda3\\lib\\site-packages (from prettytable) (0.2.5)\n",
      "Installing collected packages: prettytable\n",
      "Successfully installed prettytable-3.10.2\n",
      "Note: you may need to restart the kernel to use updated packages.\n"
     ]
    }
   ],
   "source": [
    "pip install prettytable"
   ]
  },
  {
   "cell_type": "code",
   "execution_count": 17,
   "id": "f164ed47",
   "metadata": {},
   "outputs": [
    {
     "name": "stdout",
     "output_type": "stream",
     "text": [
      "+-----------+---------+---------+----------+-------------------------------------------------+---------------------------------------------------------------------------------------------------+\n",
      "| Statistic | User_Id | Veg_Non | Nutrient |                     Disease                     |                                                Diet                                               |\n",
      "+-----------+---------+---------+----------+-------------------------------------------------+---------------------------------------------------------------------------------------------------+\n",
      "|   count   |    98   |    98   |    98    |                        98                       |                                                 98                                                |\n",
      "|   unique  |    98   |    2    |    15    |                        47                       |                                                 55                                                |\n",
      "|    top    |  User_1 |   veg   |   iron   |  anemia kidney_disease goitre rickets pregnancy |  type_a_diet high_protien_diet high_fiber_diet low_carb_diet low_fat_diet vegan_diet hormone_diet |\n",
      "|    freq   |    1    |    68   |    21    |                        13                       |                                                 9                                                 |\n",
      "+-----------+---------+---------+----------+-------------------------------------------------+---------------------------------------------------------------------------------------------------+\n"
     ]
    }
   ],
   "source": [
    "from prettytable import PrettyTable\n",
    "\n",
    "# Convert DataFrame to PrettyTable\n",
    "desc = user_profiles.describe(include='all')\n",
    "pretty_table = PrettyTable()\n",
    "\n",
    "# Set column names\n",
    "pretty_table.field_names = desc.columns.insert(0, \"Statistic\")\n",
    "\n",
    "# Add rows\n",
    "for row in desc.itertuples():\n",
    "    pretty_table.add_row(row)\n",
    "\n",
    "print(pretty_table)\n"
   ]
  },
  {
   "cell_type": "code",
   "execution_count": 18,
   "id": "9cd6c04f",
   "metadata": {},
   "outputs": [
    {
     "name": "stdout",
     "output_type": "stream",
     "text": [
      "<class 'pandas.core.frame.DataFrame'>\n",
      "RangeIndex: 98 entries, 0 to 97\n",
      "Data columns (total 5 columns):\n",
      " #   Column    Non-Null Count  Dtype \n",
      "---  ------    --------------  ----- \n",
      " 0   User_Id   98 non-null     object\n",
      " 1   Veg_Non   98 non-null     object\n",
      " 2   Nutrient  98 non-null     object\n",
      " 3   Disease   98 non-null     object\n",
      " 4   Diet      98 non-null     object\n",
      "dtypes: object(5)\n",
      "memory usage: 4.0+ KB\n",
      "None\n"
     ]
    }
   ],
   "source": [
    "print(user_profiles.info())"
   ]
  },
  {
   "cell_type": "code",
   "execution_count": 19,
   "id": "523a67d2",
   "metadata": {},
   "outputs": [
    {
     "name": "stdout",
     "output_type": "stream",
     "text": [
      "    Meal_Id                        Name catagory  \\\n",
      "0  meal_id1         summer squash salad    salad   \n",
      "1  meal_id2        chicken minced salad    salad   \n",
      "2  meal_id3        sweet chilli almonds   chilli   \n",
      "3  meal_id4             tricolour salad    salad   \n",
      "4  meal_id5  gluten-free christmas cake     cake   \n",
      "\n",
      "                                         description  Veg_Non   Nutrient  \\\n",
      "0  white balsamic vinegar, lemon juice, lemon rin...      veg      fiber   \n",
      "1  olive oil, chicken mince, garlic (minced), oni...  non-veg      fiber   \n",
      "2  almonds whole, egg white, curry leaves, salt, ...      veg  vitamin_a   \n",
      "3  vinegar, honey/sugar, soy sauce, salt, garlic ...      veg      fiber   \n",
      "4  christmas dry fruits (pre-soaked), orange zest...      veg  vitamin_a   \n",
      "\n",
      "                                             Disease  \\\n",
      "0              obesity diabeties hypertension goitre   \n",
      "1   anemia pregnancy hypertension rickets goitre ...   \n",
      "2   hypertension scurvy heart_disease goitre kidn...   \n",
      "3                        obesity goitre hypertension   \n",
      "4                              goitre kidney_disease   \n",
      "\n",
      "                                                Diet  Price  \n",
      "0   alkaline_diet low_fat_diet ketogenic_diet low...    485  \n",
      "1   low_fat_diet low_carb_diet ketogenic_diet low...    600  \n",
      "2   alkaline_diet low_fat_diet paleo_diet Mediter...    255  \n",
      "3   low_fat_diet ketogenic_diet low_sodium_diet h...    615  \n",
      "4                                  high_protien_diet    465  \n",
      "<class 'pandas.core.frame.DataFrame'>\n",
      "RangeIndex: 512 entries, 0 to 511\n",
      "Data columns (total 9 columns):\n",
      " #   Column       Non-Null Count  Dtype \n",
      "---  ------       --------------  ----- \n",
      " 0   Meal_Id      512 non-null    object\n",
      " 1   Name         512 non-null    object\n",
      " 2   catagory     512 non-null    object\n",
      " 3   description  511 non-null    object\n",
      " 4   Veg_Non      512 non-null    object\n",
      " 5   Nutrient     512 non-null    object\n",
      " 6   Disease      512 non-null    object\n",
      " 7   Diet         512 non-null    object\n",
      " 8   Price        512 non-null    int64 \n",
      "dtypes: int64(1), object(8)\n",
      "memory usage: 36.1+ KB\n",
      "None\n"
     ]
    }
   ],
   "source": [
    "file_path_items = 'C:/Users/DELL/Desktop/backend-nutrition-count/recommendation_system_dataset/dataset.csv'\n",
    "items = pd.read_csv(file_path_items)\n",
    "print(items.head())\n",
    "print(items.info())"
   ]
  },
  {
   "cell_type": "code",
   "execution_count": 20,
   "id": "57bb28ca",
   "metadata": {},
   "outputs": [
    {
     "name": "stdout",
     "output_type": "stream",
     "text": [
      "   User_Id    Meal_Id  Rated  Liked  Searched  Purchased         Timestamp\n",
      "0  User_19   meal_id3      1      0         0          0  01/03/2020 12:03\n",
      "1  User_69   meal_id7      0      1         0          0  04/03/2020 00:20\n",
      "2  User_20   meal_id9      1      0         0          1  05/03/2020 14:31\n",
      "3  User_96  meal_id10      0      0         1          1  05/03/2020 22:33\n",
      "4  User_63  meal_id20      0      0         1          1  07/03/2020 06:42\n",
      "<class 'pandas.core.frame.DataFrame'>\n",
      "RangeIndex: 30 entries, 0 to 29\n",
      "Data columns (total 7 columns):\n",
      " #   Column     Non-Null Count  Dtype \n",
      "---  ------     --------------  ----- \n",
      " 0   User_Id    30 non-null     object\n",
      " 1   Meal_Id    30 non-null     object\n",
      " 2   Rated      30 non-null     int64 \n",
      " 3   Liked      30 non-null     int64 \n",
      " 4   Searched   30 non-null     int64 \n",
      " 5   Purchased  30 non-null     int64 \n",
      " 6   Timestamp  30 non-null     object\n",
      "dtypes: int64(4), object(3)\n",
      "memory usage: 1.8+ KB\n",
      "None\n"
     ]
    }
   ],
   "source": [
    "file_path_iteractions ='C:/Users/DELL/Desktop/backend-nutrition-count/recommendation_system_dataset/recent_activity.csv'\n",
    "interactions = pd.read_csv(file_path_iteractions)\n",
    "print(interactions.head())\n",
    "print(interactions.info())"
   ]
  },
  {
   "cell_type": "code",
   "execution_count": 23,
   "id": "057b2cf4",
   "metadata": {},
   "outputs": [
    {
     "name": "stdout",
     "output_type": "stream",
     "text": [
      "object\n",
      "object\n"
     ]
    }
   ],
   "source": [
    "print(interactions[\"User_Id\"].dtype)\n",
    "print(user_profiles[\"User_Id\"].dtype)\n"
   ]
  },
  {
   "cell_type": "code",
   "execution_count": 24,
   "id": "66d609bb",
   "metadata": {},
   "outputs": [],
   "source": [
    "# Convert User_Id columns to string type\n",
    "interactions['User_Id'] = interactions['User_Id'].astype(str)\n",
    "user_profiles['User_Id'] = user_profiles['User_Id'].astype(str)\n"
   ]
  },
  {
   "cell_type": "code",
   "execution_count": 25,
   "id": "cc8dfb90",
   "metadata": {},
   "outputs": [
    {
     "name": "stdout",
     "output_type": "stream",
     "text": [
      "Unique values in interactions['User_Id']: ['User_19' 'User_69' 'User_20' 'User_96' 'User_63' 'User_91' 'User_31'\n",
      " 'User_25' 'User_89' 'User_29' 'User_37' 'User_70' 'User_72' 'User_49'\n",
      " 'User_94' 'User_26' 'User_81' 'User_28' 'User_74' 'User_46' 'User_55'\n",
      " 'User_36' 'User_82' 'User_97' 'User_48']\n",
      "Unique values in user_profiles['User_Id']: ['User_1' 'User_2' 'User_3' 'User_4' 'User_5' 'User_6' 'User_7' 'User_8'\n",
      " 'User_9' 'User_10' 'User_11' 'User_13' 'User_14' 'User_15' 'User_16'\n",
      " 'User_17' 'User_18' 'User_19' 'User_20' 'User_21' 'User_22' 'User_23'\n",
      " 'User_24' 'User_25' 'User_26' 'User_27' 'User_28' 'User_29' 'User_30'\n",
      " 'User_31' 'User_32' 'User_33' 'User_34' 'User_35' 'User_36' 'User_37'\n",
      " 'User_38' 'User_39' 'User_40' 'User_41' 'User_42' 'User_43' 'User_44'\n",
      " 'User_45' 'User_46' 'User_47' 'User_48' 'User_49' 'User_50' 'User_51'\n",
      " 'User_52' 'User_53' 'User_54' 'User_55' 'User_56' 'User_57' 'User_58'\n",
      " 'User_59' 'User_60' 'User_61' 'User_62' 'User_63' 'User_64' 'User_65'\n",
      " 'User_66' 'User_67' 'User_68' 'User_69' 'User_70' 'User_71' 'User_72'\n",
      " 'User_73' 'User_74' 'User_75' 'User_76' 'User_77' 'User_78' 'User_79'\n",
      " 'User_80' 'User_81' 'User_82' 'User_83' 'User_85' 'User_86' 'User_87'\n",
      " 'User_88' 'User_89' 'User_90' 'User_91' 'User_92' 'User_93' 'User_94'\n",
      " 'User_95' 'User_96' 'User_97' 'User_98' 'User_99' 'User_100']\n"
     ]
    }
   ],
   "source": [
    "# Check unique values in both columns\n",
    "print(\"Unique values in interactions['User_Id']:\", interactions['User_Id'].unique())\n",
    "print(\"Unique values in user_profiles['User_Id']:\", user_profiles['User_Id'].unique())\n"
   ]
  },
  {
   "cell_type": "code",
   "execution_count": 26,
   "id": "4c8a7c2d",
   "metadata": {},
   "outputs": [
    {
     "name": "stdout",
     "output_type": "stream",
     "text": [
      "['User_19' 'User_69' 'User_20' 'User_96' 'User_63' 'User_91' 'User_31'\n",
      " 'User_25' 'User_89' 'User_29' 'User_37' 'User_70' 'User_72' 'User_49'\n",
      " 'User_94' 'User_26' 'User_81' 'User_28' 'User_74' 'User_46' 'User_55'\n",
      " 'User_36' 'User_82' 'User_97' 'User_48' 'User_1' 'User_2' 'User_3'\n",
      " 'User_4' 'User_5' 'User_6' 'User_7' 'User_8' 'User_9' 'User_10' 'User_11'\n",
      " 'User_13' 'User_14' 'User_15' 'User_16' 'User_17' 'User_18' 'User_21'\n",
      " 'User_22' 'User_23' 'User_24' 'User_27' 'User_30' 'User_32' 'User_33'\n",
      " 'User_34' 'User_35' 'User_38' 'User_39' 'User_40' 'User_41' 'User_42'\n",
      " 'User_43' 'User_44' 'User_45' 'User_47' 'User_50' 'User_51' 'User_52'\n",
      " 'User_53' 'User_54' 'User_56' 'User_57' 'User_58' 'User_59' 'User_60'\n",
      " 'User_61' 'User_62' 'User_64' 'User_65' 'User_66' 'User_67' 'User_68'\n",
      " 'User_71' 'User_73' 'User_75' 'User_76' 'User_77' 'User_78' 'User_79'\n",
      " 'User_80' 'User_83' 'User_85' 'User_86' 'User_87' 'User_88' 'User_90'\n",
      " 'User_92' 'User_93' 'User_95' 'User_98' 'User_99' 'User_100']\n"
     ]
    }
   ],
   "source": [
    "# Ensure both columns are of the same type (e.g., strings)\n",
    "interactions['User_Id'] = interactions['User_Id'].astype(str)\n",
    "user_profiles['User_Id'] = user_profiles['User_Id'].astype(str)\n",
    "\n",
    "# Combine unique user IDs from both DataFrames\n",
    "combined_user_ids = pd.concat([interactions['User_Id'], user_profiles['User_Id']]).unique()\n",
    "print(combined_user_ids)"
   ]
  }
 ],
 "metadata": {
  "kernelspec": {
   "display_name": "Python 3 (ipykernel)",
   "language": "python",
   "name": "python3"
  },
  "language_info": {
   "codemirror_mode": {
    "name": "ipython",
    "version": 3
   },
   "file_extension": ".py",
   "mimetype": "text/x-python",
   "name": "python",
   "nbconvert_exporter": "python",
   "pygments_lexer": "ipython3",
   "version": "3.9.13"
  }
 },
 "nbformat": 4,
 "nbformat_minor": 5
}
