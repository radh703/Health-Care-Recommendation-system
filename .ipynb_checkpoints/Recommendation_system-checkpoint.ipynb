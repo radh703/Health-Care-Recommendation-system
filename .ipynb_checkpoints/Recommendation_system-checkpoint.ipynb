{
 "cells": [
  {
   "cell_type": "code",
   "execution_count": 41,
   "id": "c5c628a1",
   "metadata": {},
   "outputs": [],
   "source": [
    "import numpy as np\n",
    "import pandas as pd\n",
    "from sklearn.model_selection import train_test_split\n",
    "from sklearn.preprocessing import LabelEncoder\n",
    "import tensorflow as tf\n",
    "from tensorflow.keras.models import Model\n",
    "from tensorflow.keras.layers import Input, Embedding, Flatten, Concatenate, Dense, Dropout"
   ]
  },
  {
   "cell_type": "markdown",
   "id": "96826595",
   "metadata": {},
   "source": [
    "# 1- Data Preparation"
   ]
  },
  {
   "cell_type": "code",
   "execution_count": 42,
   "id": "ee89d5d8",
   "metadata": {},
   "outputs": [
    {
     "name": "stdout",
     "output_type": "stream",
     "text": [
      "  User_Id  Veg_Non   Nutrient  \\\n",
      "0  User_1  non-veg   chloride   \n",
      "1  User_2      veg   chloride   \n",
      "2  User_3      veg  magnesium   \n",
      "3  User_4      veg  vitamin_e   \n",
      "4  User_5  non-veg  vitamin_c   \n",
      "\n",
      "                                             Disease  \\\n",
      "0     anemia kidney_disease goitre rickets pregnancy   \n",
      "1                                             goitre   \n",
      "2    cancer hypertension goitre heart_disease scurvy   \n",
      "3   cancer kidney_disease obesity anemia heart_di...   \n",
      "4     anemia kidney_disease goitre rickets pregnancy   \n",
      "\n",
      "                                                Diet  \n",
      "0   type_a_diet high_protien_diet low_carb_diet l...  \n",
      "1                         high_fiber_diet vegan_diet  \n",
      "2   high_fiber_diet ketogenic_diet high_protien_diet  \n",
      "3   high_fiber_diet ketogenic_diet gluten_free_di...  \n",
      "4   type_a_diet high_protien_diet low_carb_diet l...  \n",
      "    Meal_Id                        Name catagory  \\\n",
      "0  meal_id1         summer squash salad    salad   \n",
      "1  meal_id2        chicken minced salad    salad   \n",
      "2  meal_id3        sweet chilli almonds   chilli   \n",
      "3  meal_id4             tricolour salad    salad   \n",
      "4  meal_id5  gluten-free christmas cake     cake   \n",
      "\n",
      "                                         description  Veg_Non   Nutrient  \\\n",
      "0  white balsamic vinegar, lemon juice, lemon rin...      veg      fiber   \n",
      "1  olive oil, chicken mince, garlic (minced), oni...  non-veg      fiber   \n",
      "2  almonds whole, egg white, curry leaves, salt, ...      veg  vitamin_a   \n",
      "3  vinegar, honey/sugar, soy sauce, salt, garlic ...      veg      fiber   \n",
      "4  christmas dry fruits (pre-soaked), orange zest...      veg  vitamin_a   \n",
      "\n",
      "                                             Disease  \\\n",
      "0              obesity diabeties hypertension goitre   \n",
      "1   anemia pregnancy hypertension rickets goitre ...   \n",
      "2   hypertension scurvy heart_disease goitre kidn...   \n",
      "3                        obesity goitre hypertension   \n",
      "4                              goitre kidney_disease   \n",
      "\n",
      "                                                Diet  Price  \n",
      "0   alkaline_diet low_fat_diet ketogenic_diet low...    485  \n",
      "1   low_fat_diet low_carb_diet ketogenic_diet low...    600  \n",
      "2   alkaline_diet low_fat_diet paleo_diet Mediter...    255  \n",
      "3   low_fat_diet ketogenic_diet low_sodium_diet h...    615  \n",
      "4                                  high_protien_diet    465  \n",
      "   User_Id    Meal_Id  Rated  Liked  Searched  Purchased         Timestamp\n",
      "0  User_19   meal_id3      1      0         0          0  01/03/2020 12:03\n",
      "1  User_69   meal_id7      0      1         0          0  04/03/2020 00:20\n",
      "2  User_20   meal_id9      1      0         0          1  05/03/2020 14:31\n",
      "3  User_96  meal_id10      0      0         1          1  05/03/2020 22:33\n",
      "4  User_63  meal_id20      0      0         1          1  07/03/2020 06:42\n"
     ]
    }
   ],
   "source": [
    "# Load data\n",
    "\n",
    "file_path_users = 'C:/Users/DELL/Desktop/backend-nutrition-count/recommendation_system_dataset/user_Profiles.csv'\n",
    "user_profiles = pd.read_csv(file_path_users )\n",
    "print(user_profiles.head())\n",
    "file_path_items = 'C:/Users/DELL/Desktop/backend-nutrition-count/recommendation_system_dataset/dataset.csv'\n",
    "items = pd.read_csv(file_path_items)\n",
    "print(items.head())\n",
    "file_path_iteractions ='C:/Users/DELL/Desktop/backend-nutrition-count/recommendation_system_dataset/recent_activity.csv'\n",
    "interactions = pd.read_csv(file_path_iteractions)\n",
    "print(interactions.head())"
   ]
  },
  {
   "cell_type": "code",
   "execution_count": 43,
   "id": "66a15b63",
   "metadata": {},
   "outputs": [],
   "source": [
    "\n",
    "# Encode categorical features\n",
    "user_encoder = LabelEncoder()\n",
    "item_encoder = LabelEncoder()\n",
    "gender_encoder = LabelEncoder()\n",
    "category_encoder = LabelEncoder()\n",
    "disease_encoder = LabelEncoder()\n",
    "veg_encoder = LabelEncoder()\n",
    "nutrient_encoder = LabelEncoder()\n",
    "price_encoder = LabelEncoder()\n",
    "# Ensure both columns are of the same type (e.g., strings)\n",
    "interactions['User_Id'] = interactions['User_Id'].astype(str)\n",
    "user_profiles['User_Id'] = user_profiles['User_Id'].astype(str)\n",
    "interactions['Meal_Id'] = interactions['Meal_Id'].astype(str)\n",
    "items['Meal_Id'] = items['Meal_Id'].astype(str)\n",
    "# Combine unique user IDs from both DataFrames\n",
    "combined_user_ids = pd.concat([interactions['User_Id'], user_profiles['User_Id']]).unique()\n",
    "user_encoder.fit(combined_user_ids)\n",
    "combined_meal_ids = pd.concat([items['Meal_Id'] ,interactions['Meal_Id']]).unique()\n",
    "item_encoder.fit(combined_meal_ids)\n",
    "# encoding\n",
    "interactions['User_Id'] = user_encoder.transform(interactions['User_Id'])\n",
    "interactions['Meal_Id'] = item_encoder.transform(interactions['Meal_Id'])\n",
    "user_profiles['User_Id'] = user_encoder.transform(user_profiles['User_Id'])\n",
    "user_profiles['Disease'] = disease_encoder.fit_transform(user_profiles['Disease'])\n",
    "user_profiles['Veg_Non'] = veg_encoder.fit_transform(user_profiles['Veg_Non'])\n",
    "user_profiles['Nutrient'] = nutrient_encoder.fit_transform(user_profiles['Nutrient'])\n",
    "items['Meal_Id'] = item_encoder.transform(items['Meal_Id'])\n",
    "items['Price'] = price_encoder.fit_transform(items['Price'])\n",
    "items['catagory'] = category_encoder.fit_transform(items['catagory'])\n",
    "\n",
    "# Split data\n",
    "train, test = train_test_split(interactions, test_size=0.2, random_state=42)"
   ]
  },
  {
   "cell_type": "markdown",
   "id": "2b6b9d6c",
   "metadata": {},
   "source": [
    "# 2- Build Neural Collaborative Filtering (NCF) Model"
   ]
  },
  {
   "cell_type": "code",
   "execution_count": 44,
   "id": "7fb48776",
   "metadata": {},
   "outputs": [
    {
     "name": "stdout",
     "output_type": "stream",
     "text": [
      "Epoch 1/5\n",
      "\u001b[1m1/1\u001b[0m \u001b[32m━━━━━━━━━━━━━━━━━━━━\u001b[0m\u001b[37m\u001b[0m \u001b[1m1s\u001b[0m 1s/step - loss: 0.2730 - val_loss: 0.3748\n",
      "Epoch 2/5\n",
      "\u001b[1m1/1\u001b[0m \u001b[32m━━━━━━━━━━━━━━━━━━━━\u001b[0m\u001b[37m\u001b[0m \u001b[1m0s\u001b[0m 50ms/step - loss: 0.2587 - val_loss: 0.3675\n",
      "Epoch 3/5\n",
      "\u001b[1m1/1\u001b[0m \u001b[32m━━━━━━━━━━━━━━━━━━━━\u001b[0m\u001b[37m\u001b[0m \u001b[1m0s\u001b[0m 45ms/step - loss: 0.2455 - val_loss: 0.3605\n",
      "Epoch 4/5\n",
      "\u001b[1m1/1\u001b[0m \u001b[32m━━━━━━━━━━━━━━━━━━━━\u001b[0m\u001b[37m\u001b[0m \u001b[1m0s\u001b[0m 47ms/step - loss: 0.2333 - val_loss: 0.3538\n",
      "Epoch 5/5\n",
      "\u001b[1m1/1\u001b[0m \u001b[32m━━━━━━━━━━━━━━━━━━━━\u001b[0m\u001b[37m\u001b[0m \u001b[1m0s\u001b[0m 45ms/step - loss: 0.2218 - val_loss: 0.3475\n"
     ]
    },
    {
     "data": {
      "text/plain": [
       "<keras.src.callbacks.history.History at 0x1cf0c714970>"
      ]
     },
     "execution_count": 44,
     "metadata": {},
     "output_type": "execute_result"
    }
   ],
   "source": [
    "\n",
    "# Parameters\n",
    "num_users = len(user_encoder.classes_)\n",
    "num_items = len(item_encoder.classes_)\n",
    "embedding_dim = 50\n",
    "\n",
    "# Inputs\n",
    "user_input = Input(shape=(1,), name='user_input')\n",
    "item_input = Input(shape=(1,), name='item_input')\n",
    "\n",
    "# Embeddings\n",
    "user_embedding = Embedding(input_dim=num_users, output_dim=embedding_dim, name='user_embedding')(user_input)\n",
    "item_embedding = Embedding(input_dim=num_items, output_dim=embedding_dim, name='item_embedding')(item_input)\n",
    "\n",
    "# Flatten\n",
    "user_vector = Flatten()(user_embedding)\n",
    "item_vector = Flatten()(item_embedding)\n",
    "\n",
    "# Concatenate\n",
    "concat = Concatenate()([user_vector, item_vector])\n",
    "\n",
    "# Fully connected layers\n",
    "dense = Dense(128, activation='relu')(concat)\n",
    "output = Dense(1)(dense)\n",
    "\n",
    "# Model\n",
    "ncf_model = Model(inputs=[user_input, item_input], outputs=output)\n",
    "ncf_model.compile(optimizer='adam', loss='mean_squared_error')\n",
    "\n",
    "# Train the model\n",
    "ncf_model.fit([train['User_Id'], train['Meal_Id']], train['Rated'], epochs=5, batch_size=32, validation_split=0.2)\n"
   ]
  },
  {
   "cell_type": "markdown",
   "id": "bd5ae2af",
   "metadata": {},
   "source": [
    "#  Build Content-Based Model"
   ]
  },
  {
   "cell_type": "code",
   "execution_count": 45,
   "id": "f25b27cb",
   "metadata": {},
   "outputs": [
    {
     "name": "stdout",
     "output_type": "stream",
     "text": [
      "Epoch 1/5\n",
      "\u001b[1m1/1\u001b[0m \u001b[32m━━━━━━━━━━━━━━━━━━━━\u001b[0m\u001b[37m\u001b[0m \u001b[1m2s\u001b[0m 2s/step - loss: 0.3027 - val_loss: 0.3904\n",
      "Epoch 2/5\n",
      "\u001b[1m1/1\u001b[0m \u001b[32m━━━━━━━━━━━━━━━━━━━━\u001b[0m\u001b[37m\u001b[0m \u001b[1m0s\u001b[0m 55ms/step - loss: 0.2881 - val_loss: 0.3831\n",
      "Epoch 3/5\n",
      "\u001b[1m1/1\u001b[0m \u001b[32m━━━━━━━━━━━━━━━━━━━━\u001b[0m\u001b[37m\u001b[0m \u001b[1m0s\u001b[0m 65ms/step - loss: 0.2712 - val_loss: 0.3763\n",
      "Epoch 4/5\n",
      "\u001b[1m1/1\u001b[0m \u001b[32m━━━━━━━━━━━━━━━━━━━━\u001b[0m\u001b[37m\u001b[0m \u001b[1m0s\u001b[0m 55ms/step - loss: 0.2561 - val_loss: 0.3699\n",
      "Epoch 5/5\n",
      "\u001b[1m1/1\u001b[0m \u001b[32m━━━━━━━━━━━━━━━━━━━━\u001b[0m\u001b[37m\u001b[0m \u001b[1m0s\u001b[0m 55ms/step - loss: 0.2484 - val_loss: 0.3642\n"
     ]
    },
    {
     "data": {
      "text/plain": [
       "<keras.src.callbacks.history.History at 0x1cf11b190a0>"
      ]
     },
     "execution_count": 45,
     "metadata": {},
     "output_type": "execute_result"
    }
   ],
   "source": [
    "# Inputs\n",
    "user_input = Input(shape=(1,), name='user_input')\n",
    "item_input = Input(shape=(1,), name='item_input')\n",
    "veg_input = Input(shape=(1,), name='veg_input')\n",
    "nutrient_input = Input(shape=(1,), name='nutrient_input')\n",
    "category_input = Input(shape=(1,), name='category_input')\n",
    "price_input = Input(shape=(1,), name='price_input')\n",
    "disease_input = Input(shape=(1,), name='disease_input')\n",
    "\n",
    "# Embeddings\n",
    "user_embedding = Embedding(input_dim=num_users, output_dim=embedding_dim, name='user_embedding')(user_input)\n",
    "item_embedding = Embedding(input_dim=num_items, output_dim=embedding_dim, name='item_embedding')(item_input)\n",
    "nutrient_embedding = Embedding(input_dim=len(nutrient_encoder.classes_), output_dim=10, name='nutrient_embedding')(nutrient_input)\n",
    "category_embedding = Embedding(input_dim=len(category_encoder.classes_), output_dim=10, name='category_embedding')(category_input)\n",
    "veg_embedding = Embedding(input_dim=len(veg_encoder.classes_), output_dim=10, name='veg_embedding')(veg_input)\n",
    "price_embedding = Embedding(input_dim=len(price_encoder.classes_), output_dim=10, name='price_embedding')(price_input)\n",
    "disease_embedding = Embedding(input_dim=len(disease_encoder.classes_), output_dim=10, name='disease_embedding')(disease_input)\n",
    "\n",
    "# Flatten\n",
    "user_vector = Flatten()(user_embedding)\n",
    "item_vector = Flatten()(item_embedding)\n",
    "nutrient_vector = Flatten()(nutrient_embedding)\n",
    "category_vector = Flatten()(category_embedding)\n",
    "veg_vector = Flatten()(veg_embedding)\n",
    "price_vector = Flatten()(price_embedding)\n",
    "disease_vector = Flatten()(disease_embedding)\n",
    "\n",
    "# Concatenate all features\n",
    "concat = Concatenate()([user_vector, item_vector, nutrient_vector, category_vector, price_vector, veg_vector, disease_vector])\n",
    "\n",
    "# Fully connected layers\n",
    "dense = Dense(128, activation='relu')(concat)\n",
    "dropout = Dropout(0.5)(dense)\n",
    "output = Dense(1)(dropout)\n",
    "\n",
    "# Model\n",
    "content_model = Model(inputs=[user_input, item_input, nutrient_input, category_input, price_input, veg_input, disease_input], outputs=output)\n",
    "content_model.compile(optimizer='adam', loss='mean_squared_error')\n",
    "\n",
    "# Prepare input data\n",
    "train_user_profiles = user_profiles.set_index('User_Id').loc[train['User_Id']].reset_index()\n",
    "train_item_descriptions = items.set_index('Meal_Id').loc[train['Meal_Id']].reset_index()\n",
    "\n",
    "# Train the model\n",
    "content_model.fit(\n",
    "    [train['User_Id'], train['Meal_Id'], train_user_profiles['Nutrient'], train_user_profiles['Veg_Non'], train_user_profiles['Disease'],\n",
    "     train_item_descriptions['catagory'], train_item_descriptions['Price']],\n",
    "    train['Liked'], epochs=5, batch_size=32, validation_split=0.2)\n"
   ]
  },
  {
   "cell_type": "markdown",
   "id": "51e0b9be",
   "metadata": {},
   "source": [
    "# Hybrid Integration"
   ]
  },
  {
   "cell_type": "code",
   "execution_count": 46,
   "id": "16548de8",
   "metadata": {},
   "outputs": [
    {
     "name": "stdout",
     "output_type": "stream",
     "text": [
      "Epoch 1/5\n",
      "\u001b[1m1/1\u001b[0m \u001b[32m━━━━━━━━━━━━━━━━━━━━\u001b[0m\u001b[37m\u001b[0m \u001b[1m2s\u001b[0m 2s/step - loss: 0.3004 - val_loss: 0.3735\n",
      "Epoch 2/5\n",
      "\u001b[1m1/1\u001b[0m \u001b[32m━━━━━━━━━━━━━━━━━━━━\u001b[0m\u001b[37m\u001b[0m \u001b[1m0s\u001b[0m 60ms/step - loss: 0.2714 - val_loss: 0.3626\n",
      "Epoch 3/5\n",
      "\u001b[1m1/1\u001b[0m \u001b[32m━━━━━━━━━━━━━━━━━━━━\u001b[0m\u001b[37m\u001b[0m \u001b[1m0s\u001b[0m 58ms/step - loss: 0.2450 - val_loss: 0.3524\n",
      "Epoch 4/5\n",
      "\u001b[1m1/1\u001b[0m \u001b[32m━━━━━━━━━━━━━━━━━━━━\u001b[0m\u001b[37m\u001b[0m \u001b[1m0s\u001b[0m 55ms/step - loss: 0.2210 - val_loss: 0.3430\n",
      "Epoch 5/5\n",
      "\u001b[1m1/1\u001b[0m \u001b[32m━━━━━━━━━━━━━━━━━━━━\u001b[0m\u001b[37m\u001b[0m \u001b[1m0s\u001b[0m 54ms/step - loss: 0.1987 - val_loss: 0.3343\n"
     ]
    },
    {
     "data": {
      "text/plain": [
       "<keras.src.callbacks.history.History at 0x1cf14115bb0>"
      ]
     },
     "execution_count": 46,
     "metadata": {},
     "output_type": "execute_result"
    }
   ],
   "source": [
    "# Inputs\n",
    "user_input = Input(shape=(1,), name='user_input')\n",
    "item_input = Input(shape=(1,), name='item_input')\n",
    "veg_input = Input(shape=(1,), name='veg_input')\n",
    "nutrient_input = Input(shape=(1,), name='nutrient_input')\n",
    "category_input = Input(shape=(1,), name='category_input')\n",
    "price_input = Input(shape=(1,), name='price_input')\n",
    "disease_input = Input(shape=(1,), name='disease_input')\n",
    "\n",
    "\n",
    "\n",
    "# Embeddings\n",
    "user_embedding_ncf = Embedding(input_dim=num_users, output_dim=embedding_dim, name='user_embedding_ncf')(user_input)\n",
    "item_embedding_ncf = Embedding(input_dim=num_items, output_dim=embedding_dim, name='item_embedding_ncf')(item_input)\n",
    "user_vector_ncf = Flatten()(user_embedding_ncf)\n",
    "item_vector_ncf = Flatten()(item_embedding_ncf)\n",
    "concat_ncf = Concatenate()([user_vector_ncf, item_vector_ncf])\n",
    "dense_ncf = Dense(128, activation='relu')(concat_ncf)\n",
    "\n",
    "\n",
    "\n",
    "\n",
    "# Content-based embeddings\n",
    "\n",
    "user_embedding = Embedding(input_dim=num_users, output_dim=embedding_dim, name='user_embedding')(user_input)\n",
    "item_embedding = Embedding(input_dim=num_items, output_dim=embedding_dim, name='item_embedding')(item_input)\n",
    "nutrient_embedding = Embedding(input_dim=len(nutrient_encoder.classes_), output_dim=10, name='nutrient_embedding')(nutrient_input)\n",
    "category_embedding = Embedding(input_dim=len(category_encoder.classes_), output_dim=10, name='category_embedding')(category_input)\n",
    "veg_embedding = Embedding(input_dim=len(veg_encoder.classes_), output_dim=10, name='veg_embedding')(veg_input)\n",
    "price_embedding = Embedding(input_dim=len(price_encoder.classes_), output_dim=10, name='price_embedding')(price_input)\n",
    "disease_embedding = Embedding(input_dim=len(disease_encoder.classes_), output_dim=10, name='disease_embedding')(disease_input)\n",
    "user_vector = Flatten()(user_embedding)\n",
    "item_vector = Flatten()(item_embedding)\n",
    "nutrient_vector = Flatten()(nutrient_embedding)\n",
    "category_vector = Flatten()(category_embedding)\n",
    "veg_vector = Flatten()(veg_embedding)\n",
    "price_vector = Flatten()(price_embedding)\n",
    "disease_vector = Flatten()(disease_embedding)\n",
    "concat_content = Concatenate()([user_vector, item_vector, nutrient_vector, category_vector, price_vector, veg_vector, disease_vector])\n",
    "dense_content = Dense(128, activation='relu')(concat_content)\n",
    "\n",
    "# Combine NCF and content-based models\n",
    "combined = Concatenate()([dense_ncf, dense_content])\n",
    "output = Dense(1)(combined)\n",
    "\n",
    "# Hybrid model\n",
    "hybrid_model =  Model(inputs=[user_input, item_input, nutrient_input, category_input, price_input, veg_input, disease_input], outputs=output)\n",
    "hybrid_model.compile(optimizer='adam', loss='mean_squared_error')\n",
    "\n",
    "# Train the hybrid model\n",
    "hybrid_model.fit(\n",
    "    [train['User_Id'], train['Meal_Id'], train_user_profiles['Nutrient'], train_user_profiles['Veg_Non'], train_user_profiles['Disease'],\n",
    "     train_item_descriptions['catagory'], train_item_descriptions['Price']],\n",
    "    train['Liked'], epochs=5, batch_size=32, validation_split=0.2)\n"
   ]
  },
  {
   "cell_type": "markdown",
   "id": "ed69aaad",
   "metadata": {},
   "source": [
    "# Evaluation"
   ]
  },
  {
   "cell_type": "code",
   "execution_count": 47,
   "id": "70e829c0",
   "metadata": {},
   "outputs": [
    {
     "name": "stdout",
     "output_type": "stream",
     "text": [
      "Epoch 1/5\n",
      "\u001b[1m1/1\u001b[0m \u001b[32m━━━━━━━━━━━━━━━━━━━━\u001b[0m\u001b[37m\u001b[0m \u001b[1m0s\u001b[0m 95ms/step - loss: 0.1780 - val_loss: 0.3265\n",
      "Epoch 2/5\n",
      "\u001b[1m1/1\u001b[0m \u001b[32m━━━━━━━━━━━━━━━━━━━━\u001b[0m\u001b[37m\u001b[0m \u001b[1m0s\u001b[0m 51ms/step - loss: 0.1586 - val_loss: 0.3194\n",
      "Epoch 3/5\n",
      "\u001b[1m1/1\u001b[0m \u001b[32m━━━━━━━━━━━━━━━━━━━━\u001b[0m\u001b[37m\u001b[0m \u001b[1m0s\u001b[0m 50ms/step - loss: 0.1404 - val_loss: 0.3129\n",
      "Epoch 4/5\n",
      "\u001b[1m1/1\u001b[0m \u001b[32m━━━━━━━━━━━━━━━━━━━━\u001b[0m\u001b[37m\u001b[0m \u001b[1m0s\u001b[0m 54ms/step - loss: 0.1232 - val_loss: 0.3072\n",
      "Epoch 5/5\n",
      "\u001b[1m1/1\u001b[0m \u001b[32m━━━━━━━━━━━━━━━━━━━━\u001b[0m\u001b[37m\u001b[0m \u001b[1m0s\u001b[0m 57ms/step - loss: 0.1070 - val_loss: 0.3022\n",
      "Test Loss: <keras.src.callbacks.history.History object at 0x000001CF14105070>\n"
     ]
    }
   ],
   "source": [
    "# Prepare test data\n",
    "train_user_profiles = user_profiles.set_index('User_Id').loc[train['User_Id']].reset_index()\n",
    "train_item_descriptions = items.set_index('Meal_Id').loc[train['Meal_Id']].reset_index()\n",
    "# Evaluate the hybrid model\n",
    "test_loss = hybrid_model.fit(\n",
    "    [train['User_Id'], train['Meal_Id'], train_user_profiles['Nutrient'], train_user_profiles['Veg_Non'], train_user_profiles['Disease'],\n",
    "     train_item_descriptions['catagory'], train_item_descriptions['Price']],\n",
    "    train['Liked'], epochs=5, batch_size=32, validation_split=0.2)\n",
    "print(f'Test Loss: {test_loss}')"
   ]
  },
  {
   "cell_type": "code",
   "execution_count": 73,
   "id": "10c5919b",
   "metadata": {},
   "outputs": [
    {
     "name": "stdout",
     "output_type": "stream",
     "text": [
      "\u001b[1m1/1\u001b[0m \u001b[32m━━━━━━━━━━━━━━━━━━━━\u001b[0m\u001b[37m\u001b[0m \u001b[1m0s\u001b[0m 21ms/step\n",
      "Meals liked by the user:\n",
      "Meal ID: 276, Description: almonds, eggs, granulated sugar, bittersweet chocolate, unsalted butter, flour, baking powder, castor sugar, icing sugar\n",
      "Meal ID: 123, Description: apples, milk, sugar, green cardamoms, almonds (blanched), pistachios (blanched)\n",
      "Meal ID: 200, Description: raw papaya, carrot, french bean diamond, cherry tomato, garlic, crush mix chilli, somtam dressing, peanuts (crushed), peanuts\n",
      "Meal ID: 256, Description: unsalted butter, brown sugar, chocolate, chocolate chips, eggs, flour, cocoa powder, baking powder\n",
      "Meal ID: 89, Description: khoya, sweetener (optional), almonds (crushed)\n",
      "Meal ID: 100, Description: whole wheat flour (atta), refined flour (maida), garlic cloves (crushed), salt, red chilli powder, chaat masala, cumin powder, tomato puree, ghee\n",
      "Meal ID: 262, Description: जामुन, चीनी, मिर्च, लहसुन की कलियां, जीरा पाउडर, फिश फिलेट, सूजी, नमक, पालक\n",
      "Meal ID: 236, Description: धूली मूंग दाल नमक के साथ उबली हुई, कीवी, नारियल क्रीम, तेल, तेजपत्ता , जीरा, काली मिर्च, लहसुन की कलियां ,, प्याज, हल्दी पाउडर, करी पाउडर, नमक , ताजा हरा धनिया\n",
      "Meal ID: 277, Description: 1 खीरा छीलकर कटा हुआ, प्याज, टमाटर, हरी मिर्च, लहसुन की कलियां, पासर्ले, जैतून का तेल, नींबू का रस, नमक और कालीमिर्च\n"
     ]
    }
   ],
   "source": [
    "# Example single data point from unseen data\n",
    "single_example = {\n",
    "    'User_Id': 'User_4',  # Replace with actual user ID\n",
    "    'Meal_Id': 'Meal_2',  # Replace with actual meal ID\n",
    "    'Nutrient': 'Protein',  # Replace with actual nutrient info\n",
    "    'Veg_Non': 'Non-Veg',  # Replace with actual veg/non-veg info\n",
    "    'Disease': 'Diabetes',  # Replace with actual disease info\n",
    "    'catagory': 'Main Course',  # Replace with actual category\n",
    "    'Price': 10.99  # Replace with actual price\n",
    "}\n",
    "\n",
    "def encode_if_exists(encoder, value):\n",
    "    if value in encoder.classes_:\n",
    "        return encoder.transform([value])\n",
    "    else:\n",
    "        return np.array([len(encoder.classes_)])  # Handle unknown with a special index\n",
    "\n",
    "# Encode the single data point\n",
    "user_id_encoded = encode_if_exists(user_encoder, single_example['User_Id'])\n",
    "meal_id_encoded = encode_if_exists(item_encoder, single_example['Meal_Id'])\n",
    "nutrient_encoded = encode_if_exists(nutrient_encoder, single_example['Nutrient'])\n",
    "veg_non_encoded = encode_if_exists(veg_encoder, single_example['Veg_Non'])\n",
    "disease_encoded = encode_if_exists(disease_encoder, single_example['Disease'])\n",
    "category_encoded = encode_if_exists(category_encoder, single_example['catagory'])\n",
    "price_encoded = np.array([single_example['Price']])\n",
    "\n",
    "# Predict using the model\n",
    "single_prediction = content_model.predict([\n",
    "    user_id_encoded,\n",
    "    meal_id_encoded,\n",
    "    nutrient_encoded,\n",
    "    veg_non_encoded,\n",
    "    disease_encoded,\n",
    "    category_encoded,\n",
    "    price_encoded\n",
    "])\n",
    "\n",
    "#print(f\"Predicted like for the example: {single_prediction[0][0]}\")\n",
    "\n",
    "# If predicted rating is greater than 0.5, find liked meals\n",
    "if single_prediction[0][0] < 0.5:\n",
    "    # Assuming meal_Liked is a list of Meal_Ids that are liked\n",
    "    meal_Liked = interactions[interactions['Liked'] == 1]['Meal_Id'].tolist()\n",
    "\n",
    "    print(\"Meals liked by the user:\")\n",
    "    for meal_id in meal_Liked:\n",
    "        description = items.loc[items['Meal_Id'] == meal_id, 'description'].values\n",
    "        if description.size > 0:\n",
    "            print(f\"Meal ID: {meal_id}, Description: {description[0]}\")\n",
    "\n"
   ]
  }
 ],
 "metadata": {
  "kernelspec": {
   "display_name": "Python 3 (ipykernel)",
   "language": "python",
   "name": "python3"
  },
  "language_info": {
   "codemirror_mode": {
    "name": "ipython",
    "version": 3
   },
   "file_extension": ".py",
   "mimetype": "text/x-python",
   "name": "python",
   "nbconvert_exporter": "python",
   "pygments_lexer": "ipython3",
   "version": "3.9.13"
  }
 },
 "nbformat": 4,
 "nbformat_minor": 5
}
