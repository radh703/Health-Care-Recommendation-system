{
 "cells": [
  {
   "cell_type": "code",
   "execution_count": 1,
   "id": "af06ebc7",
   "metadata": {},
   "outputs": [
    {
     "name": "stdout",
     "output_type": "stream",
     "text": [
      "Requirement already satisfied: tensorflow in c:\\users\\dell\\anaconda3\\lib\\site-packages (2.16.1)\n",
      "Requirement already satisfied: pandas in c:\\users\\dell\\anaconda3\\lib\\site-packages (1.4.4)\n",
      "Requirement already satisfied: numpy in c:\\users\\dell\\anaconda3\\lib\\site-packages (1.24.4)\n",
      "Requirement already satisfied: pillow in c:\\users\\dell\\anaconda3\\lib\\site-packages (9.2.0)\n",
      "Requirement already satisfied: scikit-learn in c:\\users\\dell\\anaconda3\\lib\\site-packages (1.4.2)\n",
      "Requirement already satisfied: tensorflow-intel==2.16.1 in c:\\users\\dell\\anaconda3\\lib\\site-packages (from tensorflow) (2.16.1)\n",
      "Requirement already satisfied: h5py>=3.10.0 in c:\\users\\dell\\anaconda3\\lib\\site-packages (from tensorflow-intel==2.16.1->tensorflow) (3.10.0)\n",
      "Requirement already satisfied: google-pasta>=0.1.1 in c:\\users\\dell\\anaconda3\\lib\\site-packages (from tensorflow-intel==2.16.1->tensorflow) (0.2.0)\n",
      "Requirement already satisfied: tensorflow-io-gcs-filesystem>=0.23.1 in c:\\users\\dell\\anaconda3\\lib\\site-packages (from tensorflow-intel==2.16.1->tensorflow) (0.31.0)\n",
      "Requirement already satisfied: flatbuffers>=23.5.26 in c:\\users\\dell\\anaconda3\\lib\\site-packages (from tensorflow-intel==2.16.1->tensorflow) (24.3.7)\n",
      "Requirement already satisfied: protobuf!=4.21.0,!=4.21.1,!=4.21.2,!=4.21.3,!=4.21.4,!=4.21.5,<5.0.0dev,>=3.20.3 in c:\\users\\dell\\anaconda3\\lib\\site-packages (from tensorflow-intel==2.16.1->tensorflow) (4.25.3)\n",
      "Requirement already satisfied: termcolor>=1.1.0 in c:\\users\\dell\\anaconda3\\lib\\site-packages (from tensorflow-intel==2.16.1->tensorflow) (2.4.0)\n",
      "Requirement already satisfied: requests<3,>=2.21.0 in c:\\users\\dell\\anaconda3\\lib\\site-packages (from tensorflow-intel==2.16.1->tensorflow) (2.31.0)\n",
      "Requirement already satisfied: libclang>=13.0.0 in c:\\users\\dell\\anaconda3\\lib\\site-packages (from tensorflow-intel==2.16.1->tensorflow) (18.1.1)\n",
      "Requirement already satisfied: wrapt>=1.11.0 in c:\\users\\dell\\anaconda3\\lib\\site-packages (from tensorflow-intel==2.16.1->tensorflow) (1.14.1)\n",
      "Requirement already satisfied: ml-dtypes~=0.3.1 in c:\\users\\dell\\anaconda3\\lib\\site-packages (from tensorflow-intel==2.16.1->tensorflow) (0.3.2)\n",
      "Requirement already satisfied: typing-extensions>=3.6.6 in c:\\users\\dell\\anaconda3\\lib\\site-packages (from tensorflow-intel==2.16.1->tensorflow) (4.11.0)\n",
      "Requirement already satisfied: packaging in c:\\users\\dell\\anaconda3\\lib\\site-packages (from tensorflow-intel==2.16.1->tensorflow) (21.3)\n",
      "Requirement already satisfied: absl-py>=1.0.0 in c:\\users\\dell\\anaconda3\\lib\\site-packages (from tensorflow-intel==2.16.1->tensorflow) (2.1.0)\n",
      "Requirement already satisfied: opt-einsum>=2.3.2 in c:\\users\\dell\\anaconda3\\lib\\site-packages (from tensorflow-intel==2.16.1->tensorflow) (3.3.0)\n",
      "Requirement already satisfied: astunparse>=1.6.0 in c:\\users\\dell\\anaconda3\\lib\\site-packages (from tensorflow-intel==2.16.1->tensorflow) (1.6.3)\n",
      "Requirement already satisfied: setuptools in c:\\users\\dell\\anaconda3\\lib\\site-packages (from tensorflow-intel==2.16.1->tensorflow) (63.4.1)\n",
      "Requirement already satisfied: gast!=0.5.0,!=0.5.1,!=0.5.2,>=0.2.1 in c:\\users\\dell\\anaconda3\\lib\\site-packages (from tensorflow-intel==2.16.1->tensorflow) (0.5.4)\n",
      "Requirement already satisfied: grpcio<2.0,>=1.24.3 in c:\\users\\dell\\anaconda3\\lib\\site-packages (from tensorflow-intel==2.16.1->tensorflow) (1.62.1)\n",
      "Requirement already satisfied: keras>=3.0.0 in c:\\users\\dell\\anaconda3\\lib\\site-packages (from tensorflow-intel==2.16.1->tensorflow) (3.1.1)\n",
      "Requirement already satisfied: six>=1.12.0 in c:\\users\\dell\\anaconda3\\lib\\site-packages (from tensorflow-intel==2.16.1->tensorflow) (1.16.0)\n",
      "Requirement already satisfied: tensorboard<2.17,>=2.16 in c:\\users\\dell\\anaconda3\\lib\\site-packages (from tensorflow-intel==2.16.1->tensorflow) (2.16.2)\n",
      "Requirement already satisfied: pytz>=2020.1 in c:\\users\\dell\\anaconda3\\lib\\site-packages (from pandas) (2024.1)\n",
      "Requirement already satisfied: python-dateutil>=2.8.1 in c:\\users\\dell\\anaconda3\\lib\\site-packages (from pandas) (2.8.2)\n",
      "Requirement already satisfied: threadpoolctl>=2.0.0 in c:\\users\\dell\\anaconda3\\lib\\site-packages (from scikit-learn) (3.5.0)\n",
      "Requirement already satisfied: joblib>=1.2.0 in c:\\users\\dell\\anaconda3\\lib\\site-packages (from scikit-learn) (1.4.2)\n",
      "Requirement already satisfied: scipy>=1.6.0 in c:\\users\\dell\\anaconda3\\lib\\site-packages (from scikit-learn) (1.9.1)\n",
      "Requirement already satisfied: wheel<1.0,>=0.23.0 in c:\\users\\dell\\anaconda3\\lib\\site-packages (from astunparse>=1.6.0->tensorflow-intel==2.16.1->tensorflow) (0.37.1)\n",
      "Requirement already satisfied: namex in c:\\users\\dell\\anaconda3\\lib\\site-packages (from keras>=3.0.0->tensorflow-intel==2.16.1->tensorflow) (0.0.7)\n",
      "Requirement already satisfied: optree in c:\\users\\dell\\anaconda3\\lib\\site-packages (from keras>=3.0.0->tensorflow-intel==2.16.1->tensorflow) (0.10.0)\n",
      "Requirement already satisfied: rich in c:\\users\\dell\\anaconda3\\lib\\site-packages (from keras>=3.0.0->tensorflow-intel==2.16.1->tensorflow) (13.7.1)\n",
      "Requirement already satisfied: certifi>=2017.4.17 in c:\\users\\dell\\anaconda3\\lib\\site-packages (from requests<3,>=2.21.0->tensorflow-intel==2.16.1->tensorflow) (2022.9.14)\n",
      "Requirement already satisfied: charset-normalizer<4,>=2 in c:\\users\\dell\\anaconda3\\lib\\site-packages (from requests<3,>=2.21.0->tensorflow-intel==2.16.1->tensorflow) (2.0.4)\n",
      "Requirement already satisfied: idna<4,>=2.5 in c:\\users\\dell\\anaconda3\\lib\\site-packages (from requests<3,>=2.21.0->tensorflow-intel==2.16.1->tensorflow) (3.3)\n",
      "Requirement already satisfied: urllib3<3,>=1.21.1 in c:\\users\\dell\\anaconda3\\lib\\site-packages (from requests<3,>=2.21.0->tensorflow-intel==2.16.1->tensorflow) (1.26.11)\n",
      "Requirement already satisfied: markdown>=2.6.8 in c:\\users\\dell\\anaconda3\\lib\\site-packages (from tensorboard<2.17,>=2.16->tensorflow-intel==2.16.1->tensorflow) (3.3.4)\n",
      "Requirement already satisfied: tensorboard-data-server<0.8.0,>=0.7.0 in c:\\users\\dell\\anaconda3\\lib\\site-packages (from tensorboard<2.17,>=2.16->tensorflow-intel==2.16.1->tensorflow) (0.7.2)\n",
      "Requirement already satisfied: werkzeug>=1.0.1 in c:\\users\\dell\\anaconda3\\lib\\site-packages (from tensorboard<2.17,>=2.16->tensorflow-intel==2.16.1->tensorflow) (2.0.3)\n",
      "Requirement already satisfied: pyparsing!=3.0.5,>=2.0.2 in c:\\users\\dell\\anaconda3\\lib\\site-packages (from packaging->tensorflow-intel==2.16.1->tensorflow) (3.0.9)\n",
      "Requirement already satisfied: markdown-it-py>=2.2.0 in c:\\users\\dell\\anaconda3\\lib\\site-packages (from rich->keras>=3.0.0->tensorflow-intel==2.16.1->tensorflow) (3.0.0)\n",
      "Requirement already satisfied: pygments<3.0.0,>=2.13.0 in c:\\users\\dell\\anaconda3\\lib\\site-packages (from rich->keras>=3.0.0->tensorflow-intel==2.16.1->tensorflow) (2.17.2)\n",
      "Requirement already satisfied: mdurl~=0.1 in c:\\users\\dell\\anaconda3\\lib\\site-packages (from markdown-it-py>=2.2.0->rich->keras>=3.0.0->tensorflow-intel==2.16.1->tensorflow) (0.1.2)\n",
      "Note: you may need to restart the kernel to use updated packages.\n"
     ]
    }
   ],
   "source": [
    "pip install tensorflow pandas numpy pillow scikit-learn"
   ]
  },
  {
   "cell_type": "code",
   "execution_count": 2,
   "id": "737187cf",
   "metadata": {},
   "outputs": [],
   "source": [
    "import os\n",
    "import pandas as pd\n",
    "import numpy as np\n",
    "from sklearn.model_selection import train_test_split\n",
    "from tensorflow.keras.preprocessing.image import ImageDataGenerator\n",
    "from tensorflow.keras.models import Sequential\n",
    "from tensorflow.keras.layers import Conv2D, MaxPooling2D, Flatten, Dense, Dropout\n",
    "from tensorflow.keras.optimizers import Adam\n",
    "from tensorflow.keras.preprocessing import image\n",
    "from PIL import Image\n"
   ]
  },
  {
   "cell_type": "code",
   "execution_count": 1,
   "id": "6f14925f",
   "metadata": {},
   "outputs": [
    {
     "name": "stdout",
     "output_type": "stream",
     "text": [
      "TensorFlow version: 2.16.1\n",
      "Num GPUs Available:  0\n"
     ]
    }
   ],
   "source": [
    "import tensorflow as tf\n",
    "print(\"TensorFlow version:\", tf.__version__)\n",
    "print(\"Num GPUs Available: \", len(tf.config.list_physical_devices('GPU')))"
   ]
  },
  {
   "cell_type": "code",
   "execution_count": null,
   "id": "d0123285",
   "metadata": {},
   "outputs": [],
   "source": [
    "pip uninstall tensorflow"
   ]
  },
  {
   "cell_type": "code",
   "execution_count": null,
   "id": "3ed47537",
   "metadata": {},
   "outputs": [],
   "source": [
    "pip uninstall tensorflow"
   ]
  },
  {
   "cell_type": "code",
   "execution_count": 3,
   "id": "603abe5b",
   "metadata": {},
   "outputs": [
    {
     "name": "stdout",
     "output_type": "stream",
     "text": [
      "   calories  proteins   fat  carbohydrate\n",
      "0     280.0       9.2  28.4           0.0\n",
      "1     513.0      23.7  37.0          21.3\n",
      "2       0.0       0.0   0.2           0.0\n",
      "3      45.0       1.1   0.4          10.8\n",
      "4      37.0       4.4   0.5           3.8\n"
     ]
    }
   ],
   "source": [
    "# Load the dataset\n",
    "df = pd.read_csv('C:/Users/DELL/Desktop/backend-nutrition-count/Last_cleaned_dataset.csv')\n",
    "print(df.head())"
   ]
  },
  {
   "cell_type": "code",
   "execution_count": 4,
   "id": "5004776d",
   "metadata": {},
   "outputs": [],
   "source": [
    "# Define image directory\n",
    "image_dir = 'C:/Users/DELL/Desktop/backend-nutrition-count/images'\n",
    "\n",
    "# Check if images directory exists\n",
    "if not os.path.exists(image_dir):\n",
    "    raise FileNotFoundError(f\"Image directory '{image_dir}' does not exist.\")\n"
   ]
  },
  {
   "cell_type": "code",
   "execution_count": 5,
   "id": "4fca4f80",
   "metadata": {},
   "outputs": [],
   "source": [
    "# Prepare image paths and labels\n",
    "image_paths = []\n",
    "labels = []\n",
    "\n",
    "for index, row in df.iterrows():\n",
    "    img_path = os.path.join(image_dir, f\"{index}.jpg\")  # Assuming images are named as 0.jpg, 1.jpg, etc.\n",
    "    if os.path.exists(img_path):\n",
    "        image_paths.append(img_path)\n",
    "        labels.append([row['calories'], row['proteins'], row['fat'], row['carbohydrate']])\n",
    "    else:\n",
    "        print(f\"Image {img_path} not found, skipping.\")\n",
    "\n",
    "\n"
   ]
  },
  {
   "cell_type": "code",
   "execution_count": 6,
   "id": "76c8e5a2",
   "metadata": {},
   "outputs": [],
   "source": [
    "# Convert labels to numpy array\n",
    "labels = np.array(labels)\n",
    "\n",
    "# Split the dataset into training and validation sets\n",
    "train_image_paths, val_image_paths, train_labels, val_labels = train_test_split(image_paths, labels, test_size=0.2, random_state=42)\n"
   ]
  },
  {
   "cell_type": "code",
   "execution_count": 7,
   "id": "13c82e03",
   "metadata": {},
   "outputs": [],
   "source": [
    "\n",
    "# Function to load and preprocess images\n",
    "def load_and_preprocess_image(img_path, target_size=(128, 128)):\n",
    "    try:\n",
    "        img = image.load_img(img_path, target_size=target_size)\n",
    "        img_array = image.img_to_array(img)\n",
    "        img_array /= 255.0  # Normalize to [0, 1] range\n",
    "        return img_array\n",
    "    except Exception as e:\n",
    "        print(f\"Error loading image {img_path}: {e}\")\n",
    "        return None"
   ]
  },
  {
   "cell_type": "code",
   "execution_count": 8,
   "id": "ef27184c",
   "metadata": {},
   "outputs": [],
   "source": [
    "# Custom generator to yield batches of images and labels\n",
    "def custom_image_generator(image_paths, labels, batch_size=32, target_size=(128, 128)):\n",
    "    while True:\n",
    "        for start in range(0, len(image_paths), batch_size):\n",
    "            end = min(start + batch_size, len(image_paths))\n",
    "            batch_image_paths = image_paths[start:end]\n",
    "            batch_labels = labels[start:end]\n",
    "            batch_images = []\n",
    "            for img_path in batch_image_paths:\n",
    "                img = load_and_preprocess_image(img_path, target_size)\n",
    "                if img is not None:\n",
    "                    batch_images.append(img)\n",
    "            yield np.array(batch_images), np.array(batch_labels)\n",
    "\n",
    "# Create the data generators\n",
    "train_generator = custom_image_generator(train_image_paths, train_labels, batch_size=32, target_size=(128, 128))\n",
    "val_generator = custom_image_generator(val_image_paths, val_labels, batch_size=32, target_size=(128, 128))"
   ]
  },
  {
   "cell_type": "code",
   "execution_count": 9,
   "id": "32e026da",
   "metadata": {},
   "outputs": [
    {
     "name": "stderr",
     "output_type": "stream",
     "text": [
      "C:\\Users\\DELL\\anaconda3\\lib\\site-packages\\keras\\src\\layers\\convolutional\\base_conv.py:99: UserWarning: Do not pass an `input_shape`/`input_dim` argument to a layer. When using Sequential models, prefer using an `Input(shape)` object as the first layer in the model instead.\n",
      "  super().__init__(\n"
     ]
    }
   ],
   "source": [
    "### Step 2: Define the CNN Model\n",
    "\n",
    "# Define the CNN model architecture\n",
    "model = Sequential([\n",
    "    Conv2D(32, (3, 3), activation='relu', input_shape=(128, 128, 3)),\n",
    "    MaxPooling2D((2, 2)),\n",
    "    Conv2D(64, (3, 3), activation='relu'),\n",
    "    MaxPooling2D((2, 2)),\n",
    "    Conv2D(128, (3, 3), activation='relu'),\n",
    "    MaxPooling2D((2, 2)),\n",
    "    Flatten(),\n",
    "    Dense(128, activation='relu'),\n",
    "    Dropout(0.5),\n",
    "    Dense(4, activation='linear')  # 4 outputs for calories, proteins, fat, carbohydrate\n",
    "])\n"
   ]
  },
  {
   "cell_type": "code",
   "execution_count": 10,
   "id": "f065cb09",
   "metadata": {},
   "outputs": [],
   "source": [
    "# Compile the model\n",
    "model.compile(optimizer=Adam(learning_rate=0.001), loss='mean_squared_error', metrics=['mae'])"
   ]
  },
  {
   "cell_type": "code",
   "execution_count": 11,
   "id": "04138e4c",
   "metadata": {
    "scrolled": true
   },
   "outputs": [
    {
     "name": "stdout",
     "output_type": "stream",
     "text": [
      "Epoch 1/50\n",
      "\u001b[1m28/28\u001b[0m \u001b[32m━━━━━━━━━━━━━━━━━━━━\u001b[0m\u001b[37m\u001b[0m \u001b[1m17s\u001b[0m 541ms/step - loss: 13149.7734 - mae: 58.1382 - val_loss: 5596.0273 - val_mae: 40.0797\n",
      "Epoch 2/50\n",
      "\u001b[1m28/28\u001b[0m \u001b[32m━━━━━━━━━━━━━━━━━━━━\u001b[0m\u001b[37m\u001b[0m \u001b[1m13s\u001b[0m 477ms/step - loss: 10146.8613 - mae: 55.1531 - val_loss: 4894.8467 - val_mae: 40.0097\n",
      "Epoch 3/50\n",
      "\u001b[1m28/28\u001b[0m \u001b[32m━━━━━━━━━━━━━━━━━━━━\u001b[0m\u001b[37m\u001b[0m \u001b[1m12s\u001b[0m 430ms/step - loss: 9162.3271 - mae: 53.0624 - val_loss: 4956.1763 - val_mae: 40.7208\n",
      "Epoch 4/50\n",
      "\u001b[1m28/28\u001b[0m \u001b[32m━━━━━━━━━━━━━━━━━━━━\u001b[0m\u001b[37m\u001b[0m \u001b[1m11s\u001b[0m 409ms/step - loss: 8715.3604 - mae: 49.6962 - val_loss: 5394.3804 - val_mae: 39.1089\n",
      "Epoch 5/50\n",
      "\u001b[1m28/28\u001b[0m \u001b[32m━━━━━━━━━━━━━━━━━━━━\u001b[0m\u001b[37m\u001b[0m \u001b[1m12s\u001b[0m 442ms/step - loss: 8429.5088 - mae: 49.3908 - val_loss: 4821.3677 - val_mae: 37.4004\n",
      "Epoch 6/50\n",
      "\u001b[1m28/28\u001b[0m \u001b[32m━━━━━━━━━━━━━━━━━━━━\u001b[0m\u001b[37m\u001b[0m \u001b[1m12s\u001b[0m 425ms/step - loss: 8052.3418 - mae: 47.6257 - val_loss: 4818.0229 - val_mae: 37.5054\n",
      "Epoch 7/50\n",
      "\u001b[1m28/28\u001b[0m \u001b[32m━━━━━━━━━━━━━━━━━━━━\u001b[0m\u001b[37m\u001b[0m \u001b[1m12s\u001b[0m 431ms/step - loss: 8120.3589 - mae: 46.9010 - val_loss: 4787.2437 - val_mae: 39.9604\n",
      "Epoch 8/50\n",
      "\u001b[1m28/28\u001b[0m \u001b[32m━━━━━━━━━━━━━━━━━━━━\u001b[0m\u001b[37m\u001b[0m \u001b[1m12s\u001b[0m 435ms/step - loss: 6811.0918 - mae: 44.5259 - val_loss: 4794.4077 - val_mae: 40.2216\n",
      "Epoch 9/50\n",
      "\u001b[1m28/28\u001b[0m \u001b[32m━━━━━━━━━━━━━━━━━━━━\u001b[0m\u001b[37m\u001b[0m \u001b[1m12s\u001b[0m 440ms/step - loss: 7317.3628 - mae: 44.4126 - val_loss: 5836.8486 - val_mae: 37.7819\n",
      "Epoch 10/50\n",
      "\u001b[1m28/28\u001b[0m \u001b[32m━━━━━━━━━━━━━━━━━━━━\u001b[0m\u001b[37m\u001b[0m \u001b[1m12s\u001b[0m 433ms/step - loss: 7227.1914 - mae: 43.2403 - val_loss: 5374.7905 - val_mae: 37.9078\n",
      "Epoch 11/50\n",
      "\u001b[1m28/28\u001b[0m \u001b[32m━━━━━━━━━━━━━━━━━━━━\u001b[0m\u001b[37m\u001b[0m \u001b[1m12s\u001b[0m 437ms/step - loss: 6919.9165 - mae: 42.3245 - val_loss: 5044.2280 - val_mae: 39.1237\n",
      "Epoch 12/50\n",
      "\u001b[1m28/28\u001b[0m \u001b[32m━━━━━━━━━━━━━━━━━━━━\u001b[0m\u001b[37m\u001b[0m \u001b[1m12s\u001b[0m 439ms/step - loss: 6873.7358 - mae: 41.5033 - val_loss: 5127.8013 - val_mae: 38.4481\n",
      "Epoch 13/50\n",
      "\u001b[1m28/28\u001b[0m \u001b[32m━━━━━━━━━━━━━━━━━━━━\u001b[0m\u001b[37m\u001b[0m \u001b[1m12s\u001b[0m 433ms/step - loss: 6459.5078 - mae: 39.5643 - val_loss: 4741.5850 - val_mae: 39.9510\n",
      "Epoch 14/50\n",
      "\u001b[1m28/28\u001b[0m \u001b[32m━━━━━━━━━━━━━━━━━━━━\u001b[0m\u001b[37m\u001b[0m \u001b[1m12s\u001b[0m 430ms/step - loss: 5768.9609 - mae: 39.4324 - val_loss: 4751.9712 - val_mae: 38.5792\n",
      "Epoch 15/50\n",
      "\u001b[1m28/28\u001b[0m \u001b[32m━━━━━━━━━━━━━━━━━━━━\u001b[0m\u001b[37m\u001b[0m \u001b[1m12s\u001b[0m 440ms/step - loss: 6480.2783 - mae: 40.3197 - val_loss: 5204.1982 - val_mae: 40.9943\n",
      "Epoch 16/50\n",
      "\u001b[1m28/28\u001b[0m \u001b[32m━━━━━━━━━━━━━━━━━━━━\u001b[0m\u001b[37m\u001b[0m \u001b[1m12s\u001b[0m 423ms/step - loss: 6026.7476 - mae: 39.2711 - val_loss: 5147.6841 - val_mae: 40.2039\n",
      "Epoch 17/50\n",
      "\u001b[1m28/28\u001b[0m \u001b[32m━━━━━━━━━━━━━━━━━━━━\u001b[0m\u001b[37m\u001b[0m \u001b[1m12s\u001b[0m 435ms/step - loss: 6015.4146 - mae: 38.6012 - val_loss: 5781.1157 - val_mae: 40.4177\n",
      "Epoch 18/50\n",
      "\u001b[1m28/28\u001b[0m \u001b[32m━━━━━━━━━━━━━━━━━━━━\u001b[0m\u001b[37m\u001b[0m \u001b[1m12s\u001b[0m 427ms/step - loss: 5732.8633 - mae: 38.4324 - val_loss: 5031.4912 - val_mae: 39.1144\n",
      "Epoch 19/50\n",
      "\u001b[1m28/28\u001b[0m \u001b[32m━━━━━━━━━━━━━━━━━━━━\u001b[0m\u001b[37m\u001b[0m \u001b[1m12s\u001b[0m 435ms/step - loss: 5561.7266 - mae: 38.0051 - val_loss: 5489.0239 - val_mae: 40.2078\n",
      "Epoch 20/50\n",
      "\u001b[1m28/28\u001b[0m \u001b[32m━━━━━━━━━━━━━━━━━━━━\u001b[0m\u001b[37m\u001b[0m \u001b[1m13s\u001b[0m 457ms/step - loss: 5115.2886 - mae: 36.4544 - val_loss: 5235.4141 - val_mae: 41.2104\n",
      "Epoch 21/50\n",
      "\u001b[1m28/28\u001b[0m \u001b[32m━━━━━━━━━━━━━━━━━━━━\u001b[0m\u001b[37m\u001b[0m \u001b[1m12s\u001b[0m 439ms/step - loss: 4823.5181 - mae: 35.8203 - val_loss: 5540.3247 - val_mae: 39.9038\n",
      "Epoch 22/50\n",
      "\u001b[1m28/28\u001b[0m \u001b[32m━━━━━━━━━━━━━━━━━━━━\u001b[0m\u001b[37m\u001b[0m \u001b[1m12s\u001b[0m 420ms/step - loss: 4942.0396 - mae: 35.4222 - val_loss: 5634.2666 - val_mae: 41.3638\n",
      "Epoch 23/50\n",
      "\u001b[1m28/28\u001b[0m \u001b[32m━━━━━━━━━━━━━━━━━━━━\u001b[0m\u001b[37m\u001b[0m \u001b[1m12s\u001b[0m 417ms/step - loss: 4460.7114 - mae: 33.6019 - val_loss: 5789.6509 - val_mae: 42.1939\n",
      "Epoch 24/50\n",
      "\u001b[1m28/28\u001b[0m \u001b[32m━━━━━━━━━━━━━━━━━━━━\u001b[0m\u001b[37m\u001b[0m \u001b[1m12s\u001b[0m 431ms/step - loss: 4602.6025 - mae: 34.1803 - val_loss: 6357.4639 - val_mae: 41.6965\n",
      "Epoch 25/50\n",
      "\u001b[1m28/28\u001b[0m \u001b[32m━━━━━━━━━━━━━━━━━━━━\u001b[0m\u001b[37m\u001b[0m \u001b[1m12s\u001b[0m 442ms/step - loss: 4348.6904 - mae: 32.6455 - val_loss: 6621.9531 - val_mae: 41.6800\n",
      "Epoch 26/50\n",
      "\u001b[1m28/28\u001b[0m \u001b[32m━━━━━━━━━━━━━━━━━━━━\u001b[0m\u001b[37m\u001b[0m \u001b[1m12s\u001b[0m 432ms/step - loss: 4643.9160 - mae: 33.5948 - val_loss: 6063.6538 - val_mae: 40.1229\n",
      "Epoch 27/50\n",
      "\u001b[1m28/28\u001b[0m \u001b[32m━━━━━━━━━━━━━━━━━━━━\u001b[0m\u001b[37m\u001b[0m \u001b[1m12s\u001b[0m 428ms/step - loss: 4075.5447 - mae: 31.1187 - val_loss: 6181.8281 - val_mae: 42.9408\n",
      "Epoch 28/50\n",
      "\u001b[1m28/28\u001b[0m \u001b[32m━━━━━━━━━━━━━━━━━━━━\u001b[0m\u001b[37m\u001b[0m \u001b[1m12s\u001b[0m 431ms/step - loss: 4084.1836 - mae: 31.3445 - val_loss: 6140.4771 - val_mae: 41.9959\n",
      "Epoch 29/50\n",
      "\u001b[1m28/28\u001b[0m \u001b[32m━━━━━━━━━━━━━━━━━━━━\u001b[0m\u001b[37m\u001b[0m \u001b[1m12s\u001b[0m 440ms/step - loss: 4131.4292 - mae: 32.1240 - val_loss: 5984.4697 - val_mae: 41.3279\n",
      "Epoch 30/50\n",
      "\u001b[1m28/28\u001b[0m \u001b[32m━━━━━━━━━━━━━━━━━━━━\u001b[0m\u001b[37m\u001b[0m \u001b[1m12s\u001b[0m 439ms/step - loss: 3789.6284 - mae: 30.1168 - val_loss: 6512.6226 - val_mae: 43.7057\n",
      "Epoch 31/50\n",
      "\u001b[1m28/28\u001b[0m \u001b[32m━━━━━━━━━━━━━━━━━━━━\u001b[0m\u001b[37m\u001b[0m \u001b[1m12s\u001b[0m 431ms/step - loss: 3209.3311 - mae: 29.6239 - val_loss: 6933.3940 - val_mae: 44.6320\n",
      "Epoch 32/50\n",
      "\u001b[1m28/28\u001b[0m \u001b[32m━━━━━━━━━━━━━━━━━━━━\u001b[0m\u001b[37m\u001b[0m \u001b[1m12s\u001b[0m 421ms/step - loss: 3277.6780 - mae: 29.4807 - val_loss: 6357.1636 - val_mae: 43.0959\n",
      "Epoch 33/50\n",
      "\u001b[1m28/28\u001b[0m \u001b[32m━━━━━━━━━━━━━━━━━━━━\u001b[0m\u001b[37m\u001b[0m \u001b[1m12s\u001b[0m 438ms/step - loss: 4054.1433 - mae: 29.9266 - val_loss: 6934.1084 - val_mae: 42.0970\n",
      "Epoch 34/50\n",
      "\u001b[1m28/28\u001b[0m \u001b[32m━━━━━━━━━━━━━━━━━━━━\u001b[0m\u001b[37m\u001b[0m \u001b[1m12s\u001b[0m 436ms/step - loss: 2705.1963 - mae: 27.1942 - val_loss: 5983.6196 - val_mae: 41.1192\n",
      "Epoch 35/50\n",
      "\u001b[1m28/28\u001b[0m \u001b[32m━━━━━━━━━━━━━━━━━━━━\u001b[0m\u001b[37m\u001b[0m \u001b[1m12s\u001b[0m 433ms/step - loss: 2709.4553 - mae: 27.0240 - val_loss: 6131.7788 - val_mae: 41.8352\n",
      "Epoch 36/50\n",
      "\u001b[1m28/28\u001b[0m \u001b[32m━━━━━━━━━━━━━━━━━━━━\u001b[0m\u001b[37m\u001b[0m \u001b[1m12s\u001b[0m 427ms/step - loss: 2548.2678 - mae: 26.7121 - val_loss: 6302.8799 - val_mae: 41.2000\n",
      "Epoch 37/50\n",
      "\u001b[1m28/28\u001b[0m \u001b[32m━━━━━━━━━━━━━━━━━━━━\u001b[0m\u001b[37m\u001b[0m \u001b[1m12s\u001b[0m 442ms/step - loss: 2254.4609 - mae: 24.7329 - val_loss: 6052.6729 - val_mae: 41.4686\n",
      "Epoch 38/50\n",
      "\u001b[1m28/28\u001b[0m \u001b[32m━━━━━━━━━━━━━━━━━━━━\u001b[0m\u001b[37m\u001b[0m \u001b[1m12s\u001b[0m 438ms/step - loss: 2645.4287 - mae: 26.1691 - val_loss: 6536.9468 - val_mae: 40.2033\n",
      "Epoch 39/50\n",
      "\u001b[1m28/28\u001b[0m \u001b[32m━━━━━━━━━━━━━━━━━━━━\u001b[0m\u001b[37m\u001b[0m \u001b[1m12s\u001b[0m 441ms/step - loss: 2380.3833 - mae: 24.8527 - val_loss: 6573.6162 - val_mae: 40.7009\n",
      "Epoch 40/50\n",
      "\u001b[1m28/28\u001b[0m \u001b[32m━━━━━━━━━━━━━━━━━━━━\u001b[0m\u001b[37m\u001b[0m \u001b[1m13s\u001b[0m 481ms/step - loss: 2794.5144 - mae: 26.0007 - val_loss: 6853.1084 - val_mae: 41.6055\n",
      "Epoch 41/50\n",
      "\u001b[1m28/28\u001b[0m \u001b[32m━━━━━━━━━━━━━━━━━━━━\u001b[0m\u001b[37m\u001b[0m \u001b[1m12s\u001b[0m 446ms/step - loss: 2260.3840 - mae: 25.0141 - val_loss: 7583.0117 - val_mae: 43.5633\n",
      "Epoch 42/50\n",
      "\u001b[1m28/28\u001b[0m \u001b[32m━━━━━━━━━━━━━━━━━━━━\u001b[0m\u001b[37m\u001b[0m \u001b[1m12s\u001b[0m 448ms/step - loss: 3143.0986 - mae: 27.7024 - val_loss: 6918.9058 - val_mae: 45.1835\n",
      "Epoch 43/50\n",
      "\u001b[1m28/28\u001b[0m \u001b[32m━━━━━━━━━━━━━━━━━━━━\u001b[0m\u001b[37m\u001b[0m \u001b[1m13s\u001b[0m 454ms/step - loss: 2624.2883 - mae: 26.9598 - val_loss: 6544.5146 - val_mae: 41.5320\n",
      "Epoch 44/50\n",
      "\u001b[1m28/28\u001b[0m \u001b[32m━━━━━━━━━━━━━━━━━━━━\u001b[0m\u001b[37m\u001b[0m \u001b[1m13s\u001b[0m 459ms/step - loss: 2537.5889 - mae: 26.3933 - val_loss: 7294.3672 - val_mae: 41.3502\n",
      "Epoch 45/50\n",
      "\u001b[1m28/28\u001b[0m \u001b[32m━━━━━━━━━━━━━━━━━━━━\u001b[0m\u001b[37m\u001b[0m \u001b[1m13s\u001b[0m 460ms/step - loss: 2813.7732 - mae: 27.0263 - val_loss: 6866.8442 - val_mae: 40.7019\n",
      "Epoch 46/50\n",
      "\u001b[1m28/28\u001b[0m \u001b[32m━━━━━━━━━━━━━━━━━━━━\u001b[0m\u001b[37m\u001b[0m \u001b[1m13s\u001b[0m 460ms/step - loss: 2170.1343 - mae: 24.4949 - val_loss: 6769.4648 - val_mae: 41.4201\n",
      "Epoch 47/50\n",
      "\u001b[1m28/28\u001b[0m \u001b[32m━━━━━━━━━━━━━━━━━━━━\u001b[0m\u001b[37m\u001b[0m \u001b[1m13s\u001b[0m 474ms/step - loss: 1826.8785 - mae: 23.0923 - val_loss: 7148.9360 - val_mae: 42.2965\n",
      "Epoch 48/50\n",
      "\u001b[1m28/28\u001b[0m \u001b[32m━━━━━━━━━━━━━━━━━━━━\u001b[0m\u001b[37m\u001b[0m \u001b[1m13s\u001b[0m 468ms/step - loss: 2011.8279 - mae: 23.7847 - val_loss: 6652.7803 - val_mae: 42.2108\n",
      "Epoch 49/50\n",
      "\u001b[1m28/28\u001b[0m \u001b[32m━━━━━━━━━━━━━━━━━━━━\u001b[0m\u001b[37m\u001b[0m \u001b[1m13s\u001b[0m 476ms/step - loss: 1893.5614 - mae: 23.6231 - val_loss: 6982.4956 - val_mae: 41.4561\n",
      "Epoch 50/50\n",
      "\u001b[1m28/28\u001b[0m \u001b[32m━━━━━━━━━━━━━━━━━━━━\u001b[0m\u001b[37m\u001b[0m \u001b[1m13s\u001b[0m 480ms/step - loss: 1562.9042 - mae: 21.6040 - val_loss: 6415.8242 - val_mae: 40.3436\n"
     ]
    }
   ],
   "source": [
    "\n",
    "\n",
    "### Step 3: Train the Model\n",
    "\n",
    "# Train the model\n",
    "history = model.fit(\n",
    "    train_generator,\n",
    "    validation_data=val_generator,\n",
    "    epochs=50,  # Adjust the number of epochs as needed\n",
    "    steps_per_epoch=len(train_image_paths) // 32,\n",
    "    validation_steps=len(val_image_paths) // 32\n",
    ")\n",
    "\n"
   ]
  },
  {
   "cell_type": "code",
   "execution_count": null,
   "id": "51366c1b",
   "metadata": {},
   "outputs": [
    {
     "name": "stdout",
     "output_type": "stream",
     "text": [
      "   2668/Unknown \u001b[1m664s\u001b[0m 249ms/step - loss: 6633.0845 - mae: 41.2212"
     ]
    }
   ],
   "source": [
    "# Step 4: Evaluate the Model\n",
    "\n",
    "# Evaluate the model on the validation set\n",
    "val_loss, val_mae = model.evaluate(val_generator)\n",
    "print(f\"Validation Loss: {val_loss}\")\n",
    "print(f\"Validation MAE: {val_mae}\")\n",
    "\n",
    "# Save the model\n",
    "#model.save('nutrition_cnn_model.h5')\n",
    "\n",
    "print(\"Model training complete and saved as 'nutrition_cnn_model.h5'.\")"
   ]
  },
  {
   "cell_type": "code",
   "execution_count": 29,
   "id": "d44a014d",
   "metadata": {},
   "outputs": [
    {
     "name": "stderr",
     "output_type": "stream",
     "text": [
      "WARNING:absl:You are saving your model as an HDF5 file via `model.save()` or `keras.saving.save_model(model)`. This file format is considered legacy. We recommend using instead the native Keras format, e.g. `model.save('my_model.keras')` or `keras.saving.save_model(model, 'my_model.keras')`. \n"
     ]
    }
   ],
   "source": [
    "model.save('nutrition_cnn_model.h5')"
   ]
  },
  {
   "cell_type": "code",
   "execution_count": 21,
   "id": "649347f7",
   "metadata": {},
   "outputs": [
    {
     "name": "stdout",
     "output_type": "stream",
     "text": [
      "\u001b[1m1/1\u001b[0m \u001b[32m━━━━━━━━━━━━━━━━━━━━\u001b[0m\u001b[37m\u001b[0m \u001b[1m0s\u001b[0m 47ms/step\n",
      "Predicted Calories: -0.007841017097234726\n",
      "Predicted Proteins: 0.058247048407793045\n",
      "Predicted Fat: 0.21332192420959473\n",
      "Predicted Carbohydrate: -0.010748237371444702\n"
     ]
    }
   ],
   "source": [
    "\n",
    "# Function to load and preprocess a single image\n",
    "def load_and_preprocess_image(img_path, target_size=(128, 128)):\n",
    "    try:\n",
    "        img = image.load_img(img_path, target_size=target_size)\n",
    "        img_array = image.img_to_array(img)\n",
    "        img_array /= 255.0 \n",
    "        return np.expand_dims(img_array, axis=0)  \n",
    "    except Exception as e:\n",
    "        print(f\"Error loading image {img_path}: {e}\")\n",
    "        return None\n",
    "\n",
    "\n",
    "img_path = 'C:/Users/DELL/Desktop/backend-nutrition-count/test.jpg'\n",
    "input_image = load_and_preprocess_image(img_path)\n",
    "\n",
    "if input_image is not None:\n",
    "    \n",
    "   \n",
    "    prediction = model.predict(input_image)\n",
    "\n",
    "\n",
    "    predicted_calories, predicted_proteins, predicted_fat, predicted_carbohydrate = prediction[0]\n",
    "\n",
    "    # Print the predicted values\n",
    "    print(f\"Predicted Calories: {predicted_calories}\")\n",
    "    print(f\"Predicted Proteins: {predicted_proteins}\")\n",
    "    print(f\"Predicted Fat: {predicted_fat}\")\n",
    "    print(f\"Predicted Carbohydrate: {predicted_carbohydrate}\")\n",
    "else:\n",
    "    print(\"Failed to load and preprocess the image.\")\n"
   ]
  },
  {
   "cell_type": "code",
   "execution_count": 28,
   "id": "8f1160b3",
   "metadata": {},
   "outputs": [
    {
     "name": "stdout",
     "output_type": "stream",
     "text": [
      "Is TensorFlow built with CUDA: False\n",
      "Physical devices: [PhysicalDevice(name='/physical_device:CPU:0', device_type='CPU')]\n",
      "GPU available: []\n"
     ]
    }
   ],
   "source": [
    "import tensorflow as tf\n",
    "\n",
    "# Check if TensorFlow is built with CUDA (GPU support)\n",
    "print(\"Is TensorFlow built with CUDA:\", tf.test.is_built_with_cuda())\n",
    "\n",
    "# List physical devices available\n",
    "physical_devices = tf.config.list_physical_devices()\n",
    "print(\"Physical devices:\", physical_devices)\n",
    "\n",
    "# Check if there is a GPU available\n",
    "gpu_available = tf.config.list_physical_devices('GPU')\n",
    "print(\"GPU available:\", gpu_available)\n"
   ]
  },
  {
   "cell_type": "code",
   "execution_count": 24,
   "id": "36d2f74d",
   "metadata": {},
   "outputs": [
    {
     "name": "stderr",
     "output_type": "stream",
     "text": [
      "WARNING:absl:Compiled the loaded model, but the compiled metrics have yet to be built. `model.compile_metrics` will be empty until you train or evaluate the model.\n"
     ]
    },
    {
     "name": "stdout",
     "output_type": "stream",
     "text": [
      "\u001b[1m1/1\u001b[0m \u001b[32m━━━━━━━━━━━━━━━━━━━━\u001b[0m\u001b[37m\u001b[0m \u001b[1m0s\u001b[0m 231ms/step\n",
      "Predicted Calories: 151.5972137451172\n",
      "Predicted Proteins: 9.150940895080566\n",
      "Predicted Fat: 5.534814834594727\n",
      "Predicted Carbohydrate: 21.080930709838867\n"
     ]
    }
   ],
   "source": [
    "from tensorflow.keras.models import load_model\n",
    "def load_and_preprocess_image(img_path, target_size=(128, 128)):\n",
    "    try:\n",
    "        img = image.load_img(img_path, target_size=target_size)\n",
    "        img_array = image.img_to_array(img)\n",
    "        img_array /= 255.0 \n",
    "        return np.expand_dims(img_array, axis=0)  \n",
    "    except Exception as e:\n",
    "        print(f\"Error loading image {img_path}: {e}\")\n",
    "        return None\n",
    "\n",
    "model = load_model('C:/Users/DELL/Desktop/backend-nutrition-count/nutrition_cnn_model.h5')\n",
    "img_path = 'C:/Users/DELL/Desktop/backend-nutrition-count/Ojja.jpg'\n",
    "input_image = load_and_preprocess_image(img_path)\n",
    "if input_image is not None:\n",
    "    \n",
    "   \n",
    "    prediction = model.predict(input_image)\n",
    "\n",
    "\n",
    "    predicted_calories, predicted_proteins, predicted_fat, predicted_carbohydrate = prediction[0]\n",
    "\n",
    "    # Print the predicted values\n",
    "    print(f\"Predicted Calories: {predicted_calories}\")\n",
    "    print(f\"Predicted Proteins: {predicted_proteins}\")\n",
    "    print(f\"Predicted Fat: {predicted_fat}\")\n",
    "    print(f\"Predicted Carbohydrate: {predicted_carbohydrate}\")\n",
    "else:\n",
    "    print(\"Failed to load and preprocess the image.\")"
   ]
  }
 ],
 "metadata": {
  "kernelspec": {
   "display_name": "Python 3 (ipykernel)",
   "language": "python",
   "name": "python3"
  },
  "language_info": {
   "codemirror_mode": {
    "name": "ipython",
    "version": 3
   },
   "file_extension": ".py",
   "mimetype": "text/x-python",
   "name": "python",
   "nbconvert_exporter": "python",
   "pygments_lexer": "ipython3",
   "version": "3.9.13"
  }
 },
 "nbformat": 4,
 "nbformat_minor": 5
}
